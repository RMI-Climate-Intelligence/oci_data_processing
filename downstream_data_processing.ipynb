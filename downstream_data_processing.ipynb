{
 "cells": [
  {
   "cell_type": "code",
   "execution_count": 4,
   "source": [
    "import pandas as pd\n",
    "import numpy as np\n",
    "import os\n",
    "pd.options.mode.chained_assignment = None \n",
    "sp_dir = '/Users/rwang/RMI/Climate Action Engine - Documents/OCI Phase 2'\n",
    "opem_dir = '/Users/rwang/Documents/OCI+/Downstream/opem'\n",
    "\n",
    "print('Merging upstream and midstream results...')\n",
    "\n",
    "# import sqlite3\n",
    "# connection = sqlite3.connect(\"../OCI_Database.db\")\n",
    "\n",
    "upstream = pd.read_csv(sp_dir + '/Upstream/upstream_data_pipeline_sp/Postprocessed_Outputs_2/upstream_postprocessed.csv')\n",
    "midstream = pd.read_csv(sp_dir + '/Upstream/upstream_data_pipeline_sp/Postprocessed_Outputs_2/midstream_postprocessed.csv')\n",
    "\n",
    "\n",
    "# Calculate Crude to Refinery in bbl/d from Energy Summary tab of OPGEE model. Formula is based on cell G6 in OPEM input tab  \n",
    "#https://rockmtnins.sharepoint.com/:x:/r/sites/CAE/_layouts/15/Doc.aspx?sourcedoc=%7B5E0994C9-8E35-440B-8BB4-31DF5167F60C%7D&file=OCI%20site%20input%20table%20sources.xlsx&action=default&mobileredirect=true&cid=544ad233-565f-438c-9ce2-d7d5b607b1da\n",
    "\n",
    "# ('Energy Summary'!E89*1e3/'Energy Summary'!M133)/(158.9873*141.5/(131.5+Results!G34))\n",
    "upstream['crude_to_refinery(bbl/d)']= (upstream['ES_Crude_output(mmbut/d)']*1e3/upstream['ES_Energy_Density_crude(mmbtu/t)'])/(158.9873*141.5/(131.5+upstream['API gravity']))\n",
    "\n",
    "# For oil sands, the crude to refinery volume is bigger than the input oil production volume. \n",
    "# It's interesting and worth exploring why. Is there a mistake in Raghav's mmbtu/d to boe/d calculation? \n",
    "#upstream[['Field_name','year']][upstream['crude_to_refinery(bbl/d)']>upstream['Oil production volume']]\n",
    "\n",
    "# Calculate NGL_C2 export from the field, formula based on cell G8 in OPEM input tab\n",
    "# (Flowsheet!W17+Flowsheet!CP17)*1000/(5.61458350903291*20.98*2.2)\n",
    "\n",
    "upstream['NGL_C2(boed)'] = (upstream['FS_LPG_export_C2(t/d)']+upstream['FS_Ethane_to_Petchem(t/d)'])*1000/(5.61458350903291*20.98*2.2)\n",
    "\n",
    "# Calculate NGL_C3 export from the field, formula based on cell G9 in OPEM input tab\n",
    "# Flowsheet!W18*1000000/(42*1920)+Flowsheet!W9*(1000000)*0.75/(1923*42) assuming 75% of LPG exported is C3\n",
    "upstream['NGL_C3(boed)'] = upstream['FS_LPG_export_C3(t/d)']*1000000/(42*1920)+upstream['FS_LPG_export_LPG(t/d)']*(1000000)*0.75/(1923*42)\n",
    "\n",
    "# Calculate NGL_C4 export from the field, formula based on cell G10 in OPEM input tab\n",
    "# Flowsheet!W19*1000000/(42*2213)+Flowsheet!W9*(1000000)*0.25/(1923*42) assuming 25% of LPG exported is C4\n",
    "upstream['NGL_C4(boed)'] = upstream['FS_LPG_export_C4(t/d)']*1000000/(42*2213)+upstream['FS_LPG_export_LPG(t/d)']*(1000000)*0.25/(1923*42)\n",
    "\n",
    "# Calculate NGL_C5+ export from the field, formula based on cell G11 in OPEM input tab\n",
    "# Assuming all NGL minus C2, C3 and C4 is C5+\n",
    "# ('Energy Summary'!E87-(((Flowsheet!W17+Flowsheet!CP17)*'Energy Summary'!M141) + \n",
    "# (Flowsheet!W18*'Energy Summary'!M142) + (Flowsheet!W19*'Energy Summary'!M143) + \n",
    "#(Flowsheet!W9*84950/1923)))/(42*.110)\n",
    "upstream['NGL_C5(boed)'] = (upstream['ES_NGL_output(mmbtu/d)']-(((upstream['FS_LPG_export_C2(t/d)']+ \\\n",
    "                        upstream['FS_Ethane_to_Petchem(t/d)'])*upstream['ES_Energy_Density_C2(mmbtu/t)']) + \\\n",
    "                        (upstream['FS_LPG_export_C3(t/d)']*upstream['ES_Energy_Density_C3(mmbtu/t)']) + \\\n",
    "                        (upstream['FS_LPG_export_C4(t/d)']*upstream['ES_Energy_Density_C4(mmbtu/t)']) + \\\n",
    "                        (upstream['FS_LPG_export_LPG(t/d)']*84950/1923)))/(42*.110)\n",
    "\n",
    "# Calculate petcoke from the field, formula based on cell G12 in OPEM input tab\n",
    "# 1000*(Flowsheet!HG7-'Energy Summary'!E77/'Energy Summary'!M135)\n",
    "upstream['petcoke(kg/d)'] = 1000*(upstream['FS_Petcoke_to_stock(t/d)']-upstream['ES_Petcoke_fuel(mmbtu/d)']/upstream['ES_Energy_Density_petcoke(mmbtu/t)'])\n",
    "\n",
    "\n"
   ],
   "outputs": [
    {
     "output_type": "stream",
     "name": "stdout",
     "text": [
      "Merging upstream and midstream results...\n"
     ]
    }
   ],
   "metadata": {}
  }
 ],
 "metadata": {
  "orig_nbformat": 4,
  "language_info": {
   "name": "python",
   "version": "3.8.8",
   "mimetype": "text/x-python",
   "codemirror_mode": {
    "name": "ipython",
    "version": 3
   },
   "pygments_lexer": "ipython3",
   "nbconvert_exporter": "python",
   "file_extension": ".py"
  },
  "kernelspec": {
   "name": "python3",
   "display_name": "Python 3.8.8 64-bit ('base': conda)"
  },
  "interpreter": {
   "hash": "5ccea0d9b7a70875400646c164148aa592b31bf40541a4c6f7aff7a306f1f8ff"
  }
 },
 "nbformat": 4,
 "nbformat_minor": 2
}