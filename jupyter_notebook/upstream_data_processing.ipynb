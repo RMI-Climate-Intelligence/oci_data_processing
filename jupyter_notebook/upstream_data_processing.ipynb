{
 "cells": [
  {
   "cell_type": "markdown",
   "source": [
    "# Post processing for base runs"
   ],
   "metadata": {}
  },
  {
   "cell_type": "markdown",
   "source": [
    "## Import Packages"
   ],
   "metadata": {}
  },
  {
   "cell_type": "code",
   "execution_count": 50,
   "source": [
    "import pandas as pd\n",
    "import numpy as np\n",
    "import os\n",
    "import glob\n",
    "import sqlite3"
   ],
   "outputs": [],
   "metadata": {}
  },
  {
   "cell_type": "markdown",
   "source": [
    "## Set up for Data Import"
   ],
   "metadata": {}
  },
  {
   "cell_type": "code",
   "execution_count": 51,
   "source": [
    "# Get the directory of all csv files\n",
    "d = '/Users/rwang/RMI/Climate Action Engine - Documents/OCI Phase 2/Upstream/upstream_data_pipeline_sp/Outputs_fix/'     #path to folder where files are located\n",
    "os.chdir(d)                                                                                   #change directory to path"
   ],
   "outputs": [],
   "metadata": {}
  },
  {
   "cell_type": "code",
   "execution_count": 52,
   "source": [
    "#Define column names for results csvs\n",
    "column_names =  [    \n",
    "'Downhole pump',\n",
    " 'Water reinjection ',\n",
    " 'Natural gas reinjection',\n",
    " 'Water flooding',\n",
    " 'Gas lifting',\n",
    " 'Gas flooding',\n",
    " 'Steam flooding',\n",
    " 'Oil sands mine (integrated with upgrader)',\n",
    " 'Oil sands mine (non-integrated with upgrader)',\n",
    " 'Field location (Country)',\n",
    " 'Field_name',\n",
    " 'Field age',\n",
    " 'Field depth',\n",
    " 'Oil production volume',\n",
    " 'Number of producing wells',\n",
    " 'Number of water injecting wells',\n",
    " 'Production tubing diameter',\n",
    " 'Productivity index',\n",
    " 'Reservoir pressure',\n",
    " 'Reservoir temperature',\n",
    " 'Offshore?',\n",
    " 'API gravity',\n",
    " 'Gas composition N2',\n",
    " 'Gas composition CO2',\n",
    " 'Gas composition C1',\n",
    " 'Gas composition C2',\n",
    " 'Gas composition C3',\n",
    " 'Gas composition C4+',\n",
    " 'Gas composition H2S',\n",
    " 'Gas-to-oil ratio (GOR)',\n",
    " 'Water-to-oil ratio (WOR)',\n",
    " 'Water injection ratio',\n",
    " 'Gas lifting injection ratio',\n",
    " 'Gas flooding injection ratio',\n",
    " 'Flood gas ',\n",
    " 'Liquids unloading practice',\n",
    " 'Fraction of CO2 breaking through to producers',\n",
    " 'Source of makeup CO2',\n",
    " 'Percentage of sequestration credit assigned to the oilfield',\n",
    " 'Steam-to-oil ratio (SOR)',\n",
    " 'Fraction of required electricity generated onsite',\n",
    " 'Fraction of remaining natural gas reinjected',\n",
    " 'Fraction of produced water reinjected',\n",
    " 'Fraction of steam generation via cogeneration ',\n",
    " 'Fraction of steam generation via solar thermal',\n",
    " 'Heater/treater',\n",
    " 'Stabilizer column',\n",
    " 'Upgrader type',\n",
    " 'Associated Gas Processing Path',\n",
    " 'Flaring-to-oil ratio',\n",
    " 'Venting-to-oil ratio (purposeful)',\n",
    " 'Volume fraction of diluent',\n",
    " 'Low carbon richness (semi-arid grasslands)',\n",
    " 'Moderate carbon richness (mixed)',\n",
    " 'High carbon richness (forested)',\n",
    " 'Low intensity development and low oxidation',\n",
    " 'Moderate intensity development and moderate oxidation',\n",
    " 'High intensity development and high oxidation',\n",
    " 'Ocean tanker',\n",
    " 'Barge',\n",
    " 'Pipeline',\n",
    " 'Rail',\n",
    " 'Truck',\n",
    " 'Transport distance (one way) - Ocean tanker',\n",
    " 'Transport distance (one way) - Barge',\n",
    " 'Transport distance (one way) - Pipeline',\n",
    " 'Transport distance (one way) - Rail',\n",
    " 'Transport distance (one way) - Truck',\n",
    " 'Ocean tanker size, if applicable',\n",
    " 'Small sources emissions',\n",
    " 'e-Total energy consumption','e-Total GHG emissions', \n",
    " 'e-Total GHG emissions-Combustion/land use','e-Total GHG emissions-VFF',\n",
    " 'd-Total energy consumption','d-Total GHG emissions', \n",
    " 'd-Total GHG emissions-Combustion/land use','d-Total GHG emissions-VFF',\n",
    " 'p-Total energy consumption','p-Total GHG emissions', \n",
    " 'p-Total GHG emissions-Combustion/land use','p-Total GHG emissions-VFF',\n",
    " 's-Total energy consumption','s-Total GHG emissions', \n",
    " 's-Total GHG emissions-Combustion/land use','s-Total GHG emissions-VFF',\n",
    " 'l-Total energy consumption','l-Total GHG emissions', \n",
    " 'l-Total GHG emissions-Combustion/land use','l-Total GHG emissions-VFF',\n",
    " 'm-Total energy consumption','m-Total GHG emissions', \n",
    " 'm-Total GHG emissions-Combustion/land use','m-Total GHG emissions-VFF',\n",
    " 'w-Total energy consumption','w-Total GHG emissions', \n",
    " 'w-Total GHG emissions-Combustion/land use','w-Total GHG emissions-VFF',\n",
    " 't-Total energy consumption','t-Total GHG emissions', \n",
    " 't-Total GHG emissions-Combustion/land use','t-Total GHG emissions-VFF','t-Loss factor',\n",
    " 'g-Total energy consumption','g-Total GHG emissions', \n",
    " 'g-Total GHG emissions-Combustion/land use','g-Total GHG emissions-VFF',\n",
    " 'Other small sources','Offsite emissions credit/debit','Lifecycle energy consumption',\n",
    " 'CSS-Total CO2 sequestered','Lifecycle GHG emissions','Field-by-field check']"
   ],
   "outputs": [],
   "metadata": {
    "tags": []
   }
  },
  {
   "cell_type": "markdown",
   "source": [
    "## Process 'Results' csvs"
   ],
   "metadata": {}
  },
  {
   "cell_type": "code",
   "execution_count": 53,
   "source": [
    "#Create list of all results csvs\n",
    "list_results = sorted(glob.glob('*Results*.csv', recursive=True))                             #list all results .csvs\n",
    "len(list_results)                                                                             #how many results files available"
   ],
   "outputs": [
    {
     "output_type": "execute_result",
     "data": {
      "text/plain": [
       "270"
      ]
     },
     "metadata": {},
     "execution_count": 53
    }
   ],
   "metadata": {}
  },
  {
   "cell_type": "code",
   "execution_count": 54,
   "source": [
    "#Define a function called 'clean_df' that goes through excel fil and grabs the rows/columns where results are stored\n",
    "#Then transpose the matrix, assign proper column names, and drop any rows that don't have information and return the clean dataframe\n",
    "def clean_df(df,column_names):\n",
    "    '''clean the df and transpose to map the column names'''\n",
    "    df = df.iloc[: , 7:]\n",
    "    df = df.iloc[[8,9,10,11,12,13,14,15,16,19,20,21,22,23,24,25,26,27,28,29,30,33,35,36,37,38,39,40,41,45,46,47,48,49,\n",
    "         50,54,57,58,61,62,63,64,65,66,67,69,70,71,76,85,86,87,91,92,93,95,96,97,101,102,103,104,105,107,108,109,110,\n",
    "        111,112,114,129,130,131,132,135,136,137,138,141,142,143,144,147,148,149,150,153,154,155,156,159,160,161,162,\n",
    "                 165,166,167,168,171,172,173,174,175,178,179,180,181,183,185,187,190,192,194]]\n",
    "    df_t = df.transpose()\n",
    "    df_t.columns = column_names\n",
    "    df_t = df_t.dropna(how = 'all')\n",
    "    return df_t"
   ],
   "outputs": [],
   "metadata": {}
  },
  {
   "cell_type": "code",
   "execution_count": 55,
   "source": [
    "#Create an empty list in which to store cleaned results\n",
    "#Loop through each results csv, clean it, add in informatoin about year, field_type, frack, lng, gwp as scraped from file name\n",
    "#If this doesn't work, print the file name as a 'problematic file' in the try/except loop\n",
    "list_df =[]\n",
    "for file in list_results:\n",
    "    try:\n",
    "        df = pd.read_csv(d+file,header = None)  \n",
    "        result = clean_df(df,column_names)\n",
    "        result['original_file']=file\n",
    "        result['year']=file.split('_')[3]\n",
    "        result['field_type']=file.split('_')[4].lower()\n",
    "        result['frack?']= True if file.split('_')[5].lower()=='frack' else False\n",
    "        result['lng?'] = True if file.split('_')[6].lower()=='lng' else False\n",
    "        result['gwp'] = file.split('_')[7][3:-4].lower()\n",
    "        result['Field_name'] = file.split('_')[0]\n",
    "        list_df.append(result)\n",
    "    except:\n",
    "        print(\"problematic file: \" + file)\n",
    "        print(list_results.index(file))"
   ],
   "outputs": [],
   "metadata": {}
  },
  {
   "cell_type": "code",
   "execution_count": 56,
   "source": [
    "results_df = pd.concat(list_df)"
   ],
   "outputs": [],
   "metadata": {}
  },
  {
   "cell_type": "code",
   "execution_count": 57,
   "source": [
    "#List out all numerical columns to convert to type float\n",
    "numerical_columns = [\n",
    " 'Field age',\n",
    " 'Field depth',\n",
    " 'Oil production volume',\n",
    " 'Number of producing wells',\n",
    " 'Number of water injecting wells',\n",
    " 'Production tubing diameter',\n",
    " 'Productivity index',\n",
    " 'Reservoir pressure',\n",
    " 'Reservoir temperature',\n",
    " 'Offshore?',\n",
    " 'API gravity',\n",
    " 'Gas composition N2',\n",
    " 'Gas composition CO2',\n",
    " 'Gas composition C1',\n",
    " 'Gas composition C2',\n",
    " 'Gas composition C3',\n",
    " 'Gas composition C4+',\n",
    " 'Gas composition H2S',\n",
    " 'Gas-to-oil ratio (GOR)',\n",
    " 'Water-to-oil ratio (WOR)',\n",
    " 'Water injection ratio',\n",
    " 'Gas lifting injection ratio',\n",
    " 'Gas flooding injection ratio',\n",
    " 'Flood gas ',\n",
    " 'Liquids unloading practice',\n",
    " 'Fraction of CO2 breaking through to producers',\n",
    " 'Source of makeup CO2',\n",
    " 'Percentage of sequestration credit assigned to the oilfield',\n",
    " 'Steam-to-oil ratio (SOR)',\n",
    " 'Fraction of required electricity generated onsite',\n",
    " 'Fraction of remaining natural gas reinjected',\n",
    " 'Fraction of produced water reinjected',\n",
    " 'Fraction of steam generation via cogeneration ',\n",
    " 'Fraction of steam generation via solar thermal',\n",
    " 'Heater/treater',\n",
    " 'Stabilizer column',\n",
    " 'Upgrader type',\n",
    " 'Associated Gas Processing Path',\n",
    " 'Flaring-to-oil ratio',\n",
    " 'Venting-to-oil ratio (purposeful)',\n",
    " 'Volume fraction of diluent',\n",
    " 'Low carbon richness (semi-arid grasslands)',\n",
    " 'Moderate carbon richness (mixed)',\n",
    " 'High carbon richness (forested)',\n",
    " 'Low intensity development and low oxidation',\n",
    " 'Moderate intensity development and moderate oxidation',\n",
    " 'High intensity development and high oxidation',\n",
    " 'Ocean tanker',\n",
    " 'Barge',\n",
    " 'Pipeline',\n",
    " 'Rail',\n",
    " 'Truck',\n",
    " 'Transport distance (one way) - Ocean tanker',\n",
    " 'Transport distance (one way) - Barge',\n",
    " 'Transport distance (one way) - Pipeline',\n",
    " 'Transport distance (one way) - Rail',\n",
    " 'Transport distance (one way) - Truck',\n",
    " 'Ocean tanker size, if applicable',\n",
    " 'Small sources emissions',\n",
    " 'e-Total energy consumption',\n",
    " 'e-Total GHG emissions',\n",
    " 'e-Total GHG emissions-Combustion/land use',\n",
    " 'e-Total GHG emissions-VFF',\n",
    " 'd-Total energy consumption',\n",
    " 'd-Total GHG emissions',\n",
    " 'd-Total GHG emissions-Combustion/land use',\n",
    " 'd-Total GHG emissions-VFF',\n",
    " 'p-Total energy consumption',\n",
    " 'p-Total GHG emissions',\n",
    " 'p-Total GHG emissions-Combustion/land use',\n",
    " 'p-Total GHG emissions-VFF',\n",
    " 's-Total energy consumption',\n",
    " 's-Total GHG emissions',\n",
    " 's-Total GHG emissions-Combustion/land use',\n",
    " 's-Total GHG emissions-VFF',\n",
    " 'l-Total energy consumption',\n",
    " 'l-Total GHG emissions',\n",
    " 'l-Total GHG emissions-Combustion/land use',\n",
    " 'l-Total GHG emissions-VFF',\n",
    " 'm-Total energy consumption',\n",
    " 'm-Total GHG emissions',\n",
    " 'm-Total GHG emissions-Combustion/land use',\n",
    " 'm-Total GHG emissions-VFF',\n",
    " 'w-Total energy consumption',\n",
    " 'w-Total GHG emissions',\n",
    " 'w-Total GHG emissions-Combustion/land use',\n",
    " 'w-Total GHG emissions-VFF',\n",
    " 't-Total energy consumption',\n",
    " 't-Total GHG emissions',\n",
    " 't-Total GHG emissions-Combustion/land use',\n",
    " 't-Total GHG emissions-VFF',\n",
    " 't-Loss factor',\n",
    " 'g-Total energy consumption',\n",
    " 'g-Total GHG emissions',\n",
    " 'g-Total GHG emissions-Combustion/land use',\n",
    " 'g-Total GHG emissions-VFF',\n",
    " 'Other small sources',\n",
    " 'Offsite emissions credit/debit',\n",
    " 'Lifecycle energy consumption',\n",
    " 'CSS-Total CO2 sequestered',\n",
    " 'Lifecycle GHG emissions']"
   ],
   "outputs": [],
   "metadata": {}
  },
  {
   "cell_type": "code",
   "execution_count": 58,
   "source": [
    "#more clean up of dataframe\n",
    "results_df = results_df.replace(r'^\\s+$', np.nan, regex=True)               #replace empty strings with NA\n",
    "results_df = results_df.replace(r'\\\\', np.nan, regex=True)                  #\n",
    "results_df.reset_index(inplace = True, drop=True)                           #reset index and drop index column\n",
    "results_df[numerical_columns]= results_df[numerical_columns].astype(float)  #set these numerica columns as type float\n",
    "results_df['Field_name']=results_df['Field_name'].apply(lambda x: x.strip())#strip whitespace from field names"
   ],
   "outputs": [],
   "metadata": {}
  },
  {
   "cell_type": "code",
   "execution_count": 59,
   "source": [
    "#double check there are no spaces in field names\n",
    "results_df['Field_name'] = results_df['Field_name'].replace(\" \", \"\")"
   ],
   "outputs": [],
   "metadata": {}
  },
  {
   "cell_type": "markdown",
   "source": [
    "## Process 'Energy Summary' csvs"
   ],
   "metadata": {}
  },
  {
   "cell_type": "code",
   "execution_count": 60,
   "source": [
    "#Grab energy summary csvs\n",
    "list_energysummary = sorted(glob.glob('*Energy*.csv', recursive=True))   #list all energy summary .csvs\n",
    "len(list_energysummary)                                                  #how many energy summary files - should match number of results csvs"
   ],
   "outputs": [
    {
     "output_type": "execute_result",
     "data": {
      "text/plain": [
       "270"
      ]
     },
     "metadata": {},
     "execution_count": 60
    }
   ],
   "metadata": {}
  },
  {
   "cell_type": "code",
   "execution_count": 61,
   "source": [
    "#Create empty lists to populate with energy summary data\n",
    "ES_MJperd =[]\n",
    "ES_mmbtuperd = []\n",
    "ES_Energy_Density_crude_oil = []\n",
    "ES_Energy_Density_petcoke = []\n",
    "ES_Energy_Density_C2 = []\n",
    "ES_Energy_Density_C3 = []\n",
    "ES_Energy_Density_C4 = []\n",
    "ES_Crude_output = []\n",
    "ES_Gas_output = []\n",
    "ES_NGL_output = []\n",
    "ES_Gas_output_MJ = []\n",
    "ES_Petcoke_fuel =[]\n",
    "Field_name = []\n",
    "original_file = []\n",
    "gwp = []"
   ],
   "outputs": [],
   "metadata": {}
  },
  {
   "cell_type": "code",
   "execution_count": 62,
   "source": [
    "for file in list_energysummary:\n",
    "    df = pd.read_csv(d+file,header=None)\n",
    "    ES_MJperd.append(float(df.iloc[127,5]))\n",
    "    ES_mmbtuperd.append(float(df.iloc[127,4]))\n",
    "    ES_Energy_Density_crude_oil.append(float(df.iloc[132,12]))\n",
    "    ES_Energy_Density_petcoke.append(float(df.iloc[134,12]))\n",
    "    ES_Energy_Density_C2.append(float(df.iloc[140,12]))\n",
    "    ES_Energy_Density_C3.append(float(df.iloc[141,12]))\n",
    "    ES_Energy_Density_C4.append(float(df.iloc[142,12]))\n",
    "   \n",
    "    ES_Crude_output.append(float(df.iloc[88,4]))\n",
    "    ES_Gas_output.append(float(df.iloc[84,4]))\n",
    "    \n",
    "    if df.iloc[120,3] == 'Gas':\n",
    "        ES_Gas_output_MJ.append(float(df.iloc[120,5]))\n",
    "    else:\n",
    "        ES_Gas_output_MJ.append(float(df.iloc[123,5]))\n",
    "        \n",
    "    ES_NGL_output.append(float(df.iloc[86,4]))\n",
    "    ES_Petcoke_fuel.append(float(df.iloc[76,4]))\n",
    "    Field_name.append(file.split('_')[0])\n",
    "    #original_file.append(file)\n",
    "    gwp.append(file.split('_')[7][3:-4].lower())"
   ],
   "outputs": [],
   "metadata": {}
  },
  {
   "cell_type": "code",
   "execution_count": 63,
   "source": [
    "#combine lists of values into dataframe\n",
    "energysummary_df = pd.DataFrame({'Field_name':Field_name,'gwp':gwp, #'original_file':original_file\n",
    "                               'ES_MJperd':ES_MJperd,'ES_mmbtuperd':ES_mmbtuperd,\n",
    "                               'ES_Energy_Density_crude(mmbtu/t)':ES_Energy_Density_crude_oil,'ES_Energy_Density_petcoke(mmbtu/t)':ES_Energy_Density_petcoke,\n",
    "                              'ES_Energy_Density_C2(mmbtu/t)':ES_Energy_Density_C2,'ES_Energy_Density_C3(mmbtu/t)':ES_Energy_Density_C3,\n",
    "                               'ES_Energy_Density_C4(mmbtu/t)':ES_Energy_Density_C4, 'ES_Crude_output(mmbut/d)':ES_Crude_output,\n",
    "                              'ES_Gas_output(mmbtu/d)':ES_Gas_output, 'ES_NGL_output(mmbtu/d)':ES_NGL_output,\n",
    "                              'ES_Gas_output(MJ/d)':ES_Gas_output_MJ,'ES_Petcoke_fuel(mmbtu/d)':ES_Petcoke_fuel})\n"
   ],
   "outputs": [],
   "metadata": {}
  },
  {
   "cell_type": "code",
   "execution_count": 64,
   "source": [
    "#double check there are no spaces in field names\n",
    "energysummary_df['Field_name'] = energysummary_df['Field_name'].replace(\" \", \"\")"
   ],
   "outputs": [],
   "metadata": {}
  },
  {
   "cell_type": "markdown",
   "source": [
    "## Process 'VFF' csvs"
   ],
   "metadata": {}
  },
  {
   "cell_type": "code",
   "execution_count": 65,
   "source": [
    "#we want to grab both co2 and ch4 emissions from vff csvs"
   ],
   "outputs": [],
   "metadata": {}
  },
  {
   "cell_type": "code",
   "execution_count": 66,
   "source": [
    "#Grab vff csvs\n",
    "list_vff = sorted(glob.glob('*VFF*.csv', recursive=True))   #list all VFF .csvs\n",
    "len(list_vff)"
   ],
   "outputs": [
    {
     "output_type": "execute_result",
     "data": {
      "text/plain": [
       "270"
      ]
     },
     "metadata": {},
     "execution_count": 66
    }
   ],
   "metadata": {}
  },
  {
   "cell_type": "code",
   "execution_count": 67,
   "source": [
    "#Create empty lists in which to fill in vff data\n",
    "venting_ch4 =[]\n",
    "venting_ch4_miq = []\n",
    "venting_ch4_uponly = []\n",
    "fugitive_ch4 =[]\n",
    "flaring_ch4 = []\n",
    "fugitive_ch4_miq = []\n",
    "fugitive_ch4_uponly = []\n",
    "venting_production_ch4 = []\n",
    "venting_gatherboostprocesss_ch4 = []\n",
    "venting_transmissionstorage_ch4 = []\n",
    "venting_2ndproduction_ch4 = []\n",
    "venting_enduse_ch4 = []\n",
    "fugitive_production_ch4 = []\n",
    "fugitive_gatherboostprocesss_ch4 = []\n",
    "fugitive_transmissionstorage_ch4 =[]\n",
    "fugitive_2ndproduction_ch4 = []\n",
    "fugitive_enduse_ch4 = []\n",
    "venting_co2 = []\n",
    "fugitive_co2 = []\n",
    "Field_name = []\n",
    "original_file = []\n",
    "gwp = []"
   ],
   "outputs": [],
   "metadata": {}
  },
  {
   "cell_type": "code",
   "execution_count": 68,
   "source": [
    "#fill in empty lists with data from vff files\n",
    "for file in list_vff:\n",
    "    df = pd.read_csv(d+file,header=None)\n",
    "    venting_ch4.append(sum(df.iloc[87:134,9].apply(lambda x:float(x))))\n",
    "    fugitive_ch4.append(sum(df.iloc[87:133,10].apply(lambda x:float(x))))\n",
    "    flaring_ch4.append(df.iloc[133,10])                                     #always going to be K134\n",
    "    venting_co2.append(sum(df.iloc[87:134,7].apply(lambda x:float(x))))\n",
    "    fugitive_co2.append(sum(df.iloc[87:134,8].apply(lambda x:float(x))))\n",
    "    venting_production_ch4.append(sum(df.iloc[87:107,9].apply(lambda x:float(x))))\n",
    "    venting_gatherboostprocesss_ch4.append(sum(df.iloc[107:112,9].apply(lambda x:float(x))))\n",
    "    venting_transmissionstorage_ch4.append(sum(df.iloc[112:117,9].apply(lambda x:float(x))))\n",
    "    venting_2ndproduction_ch4.append(sum(df.iloc[123:133,9].apply(lambda x:float(x))))\n",
    "    venting_enduse_ch4.append(float(df.iloc[122,9]))\n",
    "    fugitive_production_ch4.append(sum(df.iloc[87:107,10].apply(lambda x:float(x))))\n",
    "    fugitive_gatherboostprocesss_ch4.append(sum(df.iloc[107:112,10].apply(lambda x:float(x))))\n",
    "    fugitive_transmissionstorage_ch4.append(sum(df.iloc[112:117,10].apply(lambda x:float(x))))\n",
    "    fugitive_2ndproduction_ch4.append(sum(df.iloc[123:133,10].apply(lambda x:float(x))))\n",
    "    fugitive_enduse_ch4.append((float(df.iloc[122,10])))\n",
    "    venting_ch4_miq= [sum(x) for x in zip(venting_production_ch4, venting_2ndproduction_ch4)]\n",
    "    fugitive_ch4_miq= [sum(x) for x in zip(fugitive_production_ch4, fugitive_2ndproduction_ch4)]\n",
    "    venting_ch4_uponly = [sum(x) for x in zip(venting_production_ch4,venting_gatherboostprocesss_ch4,venting_2ndproduction_ch4)]\n",
    "    fugitive_ch4_uponly = [sum(x) for x in zip(fugitive_production_ch4,fugitive_gatherboostprocesss_ch4,fugitive_2ndproduction_ch4)]\n",
    "    Field_name.append(file.split('_')[0])\n",
    "    #original_file.append(file)\n",
    "    gwp.append(file.split('_')[7][3:-4].lower())"
   ],
   "outputs": [],
   "metadata": {}
  },
  {
   "cell_type": "code",
   "execution_count": 69,
   "source": [
    "#combine lists of data into dataframe\n",
    "vff_df = pd.DataFrame({'Field_name':Field_name, 'gwp':gwp, #'original_file':original_file,\n",
    "                   'venting_ch4(t/d)':venting_ch4,'fugitive_ch4(t/d)':fugitive_ch4,\n",
    "                   'flaring_ch4(t/d)':flaring_ch4,'venting_co2(t/d)':venting_co2,'fugitive_co2(t/d)':fugitive_co2,\n",
    "                   'venting_ch4_miq(t/d)':venting_ch4_miq,'fugitive_ch4_miq(t/d)':fugitive_ch4_miq,\n",
    "                   'venting_ch4_uponly(t/d)':venting_ch4_uponly,'fugitive_ch4_uponly(t/d)':fugitive_ch4_uponly,\n",
    "                   'ch4_production(t/d)': [sum(x) for x in zip(venting_production_ch4,fugitive_production_ch4)],\n",
    "                   'ch4_gatherboostprocess(t/d)': [sum(x) for x in zip(venting_gatherboostprocesss_ch4,fugitive_gatherboostprocesss_ch4)],\n",
    "                   'ch4_transmissionstorage(t/d)': [sum(x) for x in zip(venting_transmissionstorage_ch4,fugitive_transmissionstorage_ch4)],\n",
    "                   'ch4_2ndproduction(t/d)':[sum(x) for x in zip(venting_2ndproduction_ch4,fugitive_2ndproduction_ch4)],\n",
    "                   'ch4_enduse(t/d)':[sum(x) for x in zip(venting_enduse_ch4,fugitive_enduse_ch4)]})"
   ],
   "outputs": [],
   "metadata": {}
  },
  {
   "cell_type": "code",
   "execution_count": 70,
   "source": [
    "#add in new columns for tCH4/year and tCH4/year-miQ\n",
    "vff_df['tCH4/year'] = (vff_df['flaring_ch4(t/d)'].astype(float)+vff_df['venting_ch4(t/d)']+vff_df['fugitive_ch4(t/d)'])*365\n",
    "vff_df['tCH4/year-miQ']=(vff_df['flaring_ch4(t/d)'].astype(float)+vff_df['venting_ch4_miq(t/d)']+vff_df['fugitive_ch4_miq(t/d)'])*365"
   ],
   "outputs": [],
   "metadata": {}
  },
  {
   "cell_type": "code",
   "execution_count": 71,
   "source": [
    "#double check field names don't have spaces\n",
    "vff_df['Field_name'] = vff_df['Field_name'].replace(\" \", \"\")"
   ],
   "outputs": [],
   "metadata": {}
  },
  {
   "cell_type": "markdown",
   "source": [
    "## Add in data from 'Flow' csvs"
   ],
   "metadata": {}
  },
  {
   "cell_type": "code",
   "execution_count": 72,
   "source": [
    "#Grab flow sheet csvs\n",
    "list_flow = sorted(glob.glob('*Flow*.csv', recursive=True))   #list all Flow .csvs\n",
    "len(list_flow)"
   ],
   "outputs": [
    {
     "output_type": "execute_result",
     "data": {
      "text/plain": [
       "270"
      ]
     },
     "metadata": {},
     "execution_count": 72
    }
   ],
   "metadata": {}
  },
  {
   "cell_type": "code",
   "execution_count": 73,
   "source": [
    "#Create empty lists in which to populate data from csvs\n",
    "FS_LPG_export_LPG = [] #Flow Sheet!W9\n",
    "FS_LPG_export_C2 = [] #W17\n",
    "FS_LPG_export_C3 = [] #W18\n",
    "FS_LPG_export_C4  = [] #W19 \n",
    "FS_Ethane_to_Petchem = [] #CP17\n",
    "FS_Petcoke_to_stock =[]\n",
    "FS_Gas_at_Wellhead =[] #AF24\n",
    "Field_name = []\n",
    "original_file = []\n",
    "gwp = []"
   ],
   "outputs": [],
   "metadata": {}
  },
  {
   "cell_type": "code",
   "execution_count": 74,
   "source": [
    "#fill lists with data from flow csvs\n",
    "Field_name = []\n",
    "original_file = []\n",
    "for file in list_flow:\n",
    "    df = pd.read_csv(d+file,header=None)\n",
    "    FS_LPG_export_LPG.append(float(df.iloc[8,22]))\n",
    "    FS_LPG_export_C2.append(float(df.iloc[16,22]))\n",
    "    FS_LPG_export_C3.append(float(df.iloc[17,22]))\n",
    "    FS_LPG_export_C4.append(float(df.iloc[18,22]))\n",
    "    FS_Ethane_to_Petchem.append(float(df.iloc[16,93]))\n",
    "    FS_Petcoke_to_stock.append(float(df.iloc[6,214]))\n",
    "    FS_Gas_at_Wellhead.append(float(df.iloc[23,31]))\n",
    "    Field_name.append(file.split('_')[0])\n",
    "    original_file.append(file)\n",
    "    gwp.append(file.split('_')[7][3:-4].lower())"
   ],
   "outputs": [],
   "metadata": {}
  },
  {
   "cell_type": "code",
   "execution_count": 75,
   "source": [
    "#Create dataframe for flow data\n",
    "flowsheet_df = pd.DataFrame({'Field_name':Field_name, 'gwp':gwp, #'original_file':original_file,\n",
    "                   'FS_LPG_export_LPG(t/d)':FS_LPG_export_LPG,'FS_LPG_export_C2(t/d)':FS_LPG_export_C2,\n",
    "                   'FS_LPG_export_C3(t/d)': FS_LPG_export_C3, 'FS_LPG_export_C4(t/d)':FS_LPG_export_C4,\n",
    "                          'FS_Ethane_to_Petchem(t/d)':FS_Ethane_to_Petchem,\n",
    "                         'FS_Petcoke_to_stock(t/d)':FS_Petcoke_to_stock,'FS_Gas_at_Wellhead(t/d)':FS_Gas_at_Wellhead})"
   ],
   "outputs": [],
   "metadata": {}
  },
  {
   "cell_type": "code",
   "execution_count": 76,
   "source": [
    "#double check no spaces in field names\n",
    "flowsheet_df['Field_name'] = flowsheet_df['Field_name'].replace(\" \", \"\")"
   ],
   "outputs": [],
   "metadata": {}
  },
  {
   "cell_type": "markdown",
   "source": [
    "## Process Flaring csvs"
   ],
   "metadata": {}
  },
  {
   "cell_type": "code",
   "execution_count": 77,
   "source": [
    "#Grab flow sheet csvs\n",
    "list_flare = sorted(glob.glob('*Flaring*.csv', recursive=True))   #list all Flaring.csvs\n",
    "len(list_flare)"
   ],
   "outputs": [
    {
     "output_type": "execute_result",
     "data": {
      "text/plain": [
       "270"
      ]
     },
     "metadata": {},
     "execution_count": 77
    }
   ],
   "metadata": {}
  },
  {
   "cell_type": "code",
   "execution_count": 78,
   "source": [
    "list_flare"
   ],
   "outputs": [
    {
     "output_type": "execute_result",
     "data": {
      "text/plain": [
       "['AfiesereEriemu_Nigeria_Flaring_2020_Oil_nofrack_nolng_gwp100.csv',\n",
       " 'AfiesereEriemu_Nigeria_Flaring_2020_Oil_nofrack_nolng_gwp20.csv',\n",
       " 'Agbami_Nigeria_Flaring_2020_Oil_nofrack_nolng_gwp100.csv',\n",
       " 'Agbami_Nigeria_Flaring_2020_Oil_nofrack_nolng_gwp20.csv',\n",
       " 'Agha Jari_Iran_Flaring_2020_Oil_nofrack_nolng_gwp100.csv',\n",
       " 'Agha Jari_Iran_Flaring_2020_Oil_nofrack_nolng_gwp20.csv',\n",
       " 'Akpo_Nigeria_Flaring_2020_Oil_nofrack_nolng_gwp100.csv',\n",
       " 'Akpo_Nigeria_Flaring_2020_Oil_nofrack_nolng_gwp20.csv',\n",
       " 'Al Shaheen_Qatar_Flaring_2020_Oil_nofrack_lng_gwp100.csv',\n",
       " 'Al Shaheen_Qatar_Flaring_2020_Oil_nofrack_lng_gwp20.csv',\n",
       " 'Alaska North Slope_United States_Flaring_2020_Oil_nofrack_nolng_gwp100.csv',\n",
       " 'Alaska North Slope_United States_Flaring_2020_Oil_nofrack_nolng_gwp20.csv',\n",
       " 'Alba_Equatorial Guinea_Flaring_2020_Oil_nofrack_lng_gwp100.csv',\n",
       " 'Alba_Equatorial Guinea_Flaring_2020_Oil_nofrack_lng_gwp20.csv',\n",
       " 'Amudarya Basin_Turkmenistan_Flaring_2020_Gas_nofrack_nolng_gwp100.csv',\n",
       " 'Amudarya Basin_Turkmenistan_Flaring_2020_Gas_nofrack_nolng_gwp20.csv',\n",
       " 'Anadarko_United States_Flaring_2020_Gas_frack_nolng_gwp100.csv',\n",
       " 'Anadarko_United States_Flaring_2020_Gas_frack_nolng_gwp20.csv',\n",
       " 'Appomattox_United States_Flaring_2020_Oil_nofrack_nolng_gwp100.csv',\n",
       " 'Appomattox_United States_Flaring_2020_Oil_nofrack_nolng_gwp20.csv',\n",
       " 'Arkoma_United States_Flaring_2020_Gas_frack_lng_gwp100.csv',\n",
       " 'Arkoma_United States_Flaring_2020_Gas_frack_lng_gwp20.csv',\n",
       " 'Asgard_Norway_Flaring_2020_Gas_nofrack_nolng_gwp100.csv',\n",
       " 'Asgard_Norway_Flaring_2020_Gas_nofrack_nolng_gwp20.csv',\n",
       " 'Astrakhanskoye_Russian Federation_Flaring_2020_Gas_nofrack_nolng_gwp100.csv',\n",
       " 'Astrakhanskoye_Russian Federation_Flaring_2020_Gas_nofrack_nolng_gwp20.csv',\n",
       " 'Azeri_Azerbaijan_Flaring_2020_Oil_nofrack_nolng_gwp100.csv',\n",
       " 'Azeri_Azerbaijan_Flaring_2020_Oil_nofrack_nolng_gwp20.csv',\n",
       " 'Bab_United Arab Emirates_Flaring_2020_Oil_nofrack_nolng_gwp100.csv',\n",
       " 'Bab_United Arab Emirates_Flaring_2020_Oil_nofrack_nolng_gwp20.csv',\n",
       " 'Bakken_United States_Flaring_2020_Oil_frack_nolng_gwp100.csv',\n",
       " 'Bakken_United States_Flaring_2020_Oil_frack_nolng_gwp20.csv',\n",
       " 'Baram_Malaysia_Flaring_2020_Oil_nofrack_nolng_gwp100.csv',\n",
       " 'Baram_Malaysia_Flaring_2020_Oil_nofrack_nolng_gwp20.csv',\n",
       " 'Batan_Nigeria_Flaring_2020_Oil_nofrack_nolng_gwp100.csv',\n",
       " 'Batan_Nigeria_Flaring_2020_Oil_nofrack_nolng_gwp20.csv',\n",
       " 'Block 6_Oman_Flaring_2020_Oil_nofrack_nolng_gwp100.csv',\n",
       " 'Block 6_Oman_Flaring_2020_Oil_nofrack_nolng_gwp20.csv',\n",
       " 'Brent_United Kingdom_Flaring_2020_Gas_nofrack_nolng_gwp100.csv',\n",
       " 'Brent_United Kingdom_Flaring_2020_Gas_nofrack_nolng_gwp20.csv',\n",
       " 'Bu Hasa_United Arab Emirates_Flaring_2020_Oil_nofrack_lng_gwp100.csv',\n",
       " 'Bu Hasa_United Arab Emirates_Flaring_2020_Oil_nofrack_lng_gwp20.csv',\n",
       " 'Buena vista_United States_Flaring_2020_Gas_nofrack_nolng_gwp100.csv',\n",
       " 'Buena vista_United States_Flaring_2020_Gas_nofrack_nolng_gwp20.csv',\n",
       " 'Bukhara-Khiva_Uzbekistan_Flaring_2020_Gas_frack_nolng_gwp100.csv',\n",
       " 'Bukhara-Khiva_Uzbekistan_Flaring_2020_Gas_frack_nolng_gwp20.csv',\n",
       " 'Buzzard_United Kingdom_Flaring_2020_Oil_nofrack_nolng_gwp100.csv',\n",
       " 'Buzzard_United Kingdom_Flaring_2020_Oil_nofrack_nolng_gwp20.csv',\n",
       " 'Camisea_Peru_Flaring_2020_Oil_nofrack_nolng_gwp100.csv',\n",
       " 'Camisea_Peru_Flaring_2020_Oil_nofrack_nolng_gwp20.csv',\n",
       " 'Cantarell_Mexico_Flaring_2020_Oil_nofrack_nolng_gwp100.csv',\n",
       " 'Cantarell_Mexico_Flaring_2020_Oil_nofrack_nolng_gwp20.csv',\n",
       " 'Cardium_Canada_Flaring_2020_Oil_frack_nolng_gwp100.csv',\n",
       " 'Cardium_Canada_Flaring_2020_Oil_frack_nolng_gwp20.csv',\n",
       " 'Castilla_Colombia_Flaring_2020_Oil_nofrack_nolng_gwp100.csv',\n",
       " 'Castilla_Colombia_Flaring_2020_Oil_nofrack_nolng_gwp20.csv',\n",
       " 'Cerro Dragon_Argentina_Flaring_2020_Oil_nofrack_nolng_gwp100.csv',\n",
       " 'Cerro Dragon_Argentina_Flaring_2020_Oil_nofrack_nolng_gwp20.csv',\n",
       " 'Changqing_China_Flaring_2020_Gas_frack_nolng_gwp100.csv',\n",
       " 'Changqing_China_Flaring_2020_Gas_frack_nolng_gwp20.csv',\n",
       " 'Christina Lake_Canada_Flaring_2020_Oil_nofrack_nolng_gwp100.csv',\n",
       " 'Christina Lake_Canada_Flaring_2020_Oil_nofrack_nolng_gwp20.csv',\n",
       " 'Cold Lake_Canada_Flaring_2020_Oil_nofrack_nolng_gwp100.csv',\n",
       " 'Cold Lake_Canada_Flaring_2020_Oil_nofrack_nolng_gwp20.csv',\n",
       " 'Cook Inlet_United States_Flaring_2020_Gas_nofrack_nolng_gwp100.csv',\n",
       " 'Cook Inlet_United States_Flaring_2020_Gas_nofrack_nolng_gwp20.csv',\n",
       " 'Cossack_Australia_Flaring_2020_Oil_nofrack_lng_gwp100.csv',\n",
       " 'Cossack_Australia_Flaring_2020_Oil_nofrack_lng_gwp20.csv',\n",
       " 'Cusiana_Colombia_Flaring_2020_Oil_frack_nolng_gwp100.csv',\n",
       " 'Cusiana_Colombia_Flaring_2020_Oil_frack_nolng_gwp20.csv',\n",
       " 'Cymric_United States_Flaring_2020_Oil_nofrack_nolng_gwp100.csv',\n",
       " 'Cymric_United States_Flaring_2020_Oil_nofrack_nolng_gwp20.csv',\n",
       " 'Daqing_China_Flaring_2020_Oil_nofrack_nolng_gwp100.csv',\n",
       " 'Daqing_China_Flaring_2020_Oil_nofrack_nolng_gwp20.csv',\n",
       " 'Denver Julesburg_United States_Flaring_2020_Gas_frack_nolng_gwp100.csv',\n",
       " 'Denver Julesburg_United States_Flaring_2020_Gas_frack_nolng_gwp20.csv',\n",
       " 'Dukhan_Qatar_Flaring_2020_Oil_nofrack_lng_gwp100.csv',\n",
       " 'Dukhan_Qatar_Flaring_2020_Oil_nofrack_lng_gwp20.csv',\n",
       " 'Duri_Indonesia_Flaring_2020_Oil_nofrack_nolng_gwp100.csv',\n",
       " 'Duri_Indonesia_Flaring_2020_Oil_nofrack_nolng_gwp20.csv',\n",
       " 'Eagle Ford - black oil_United States_Flaring_2020_Oil_frack_nolng_gwp100.csv',\n",
       " 'Eagle Ford - black oil_United States_Flaring_2020_Oil_frack_nolng_gwp20.csv',\n",
       " 'Eagle Ford - condensate_United States_Flaring_2020_Oil_frack_lng_gwp100.csv',\n",
       " 'Eagle Ford - condensate_United States_Flaring_2020_Oil_frack_lng_gwp20.csv',\n",
       " 'Eagle Ford - dry gas_United States_Flaring_2020_Gas_frack_lng_gwp100.csv',\n",
       " 'Eagle Ford - dry gas_United States_Flaring_2020_Gas_frack_lng_gwp20.csv',\n",
       " 'Eagle Ford - volatile oil_United States_Flaring_2020_Oil_frack_lng_gwp100.csv',\n",
       " 'Eagle Ford - volatile oil_United States_Flaring_2020_Oil_frack_lng_gwp20.csv',\n",
       " 'East Texas_United States_Flaring_2020_Gas_frack_lng_gwp100.csv',\n",
       " 'East Texas_United States_Flaring_2020_Gas_frack_lng_gwp20.csv',\n",
       " 'Ekofisk_Norway_Flaring_2020_Oil_nofrack_nolng_gwp100.csv',\n",
       " 'Ekofisk_Norway_Flaring_2020_Oil_nofrack_nolng_gwp20.csv',\n",
       " 'Ezanga_Gabon_Flaring_2020_Oil_nofrack_nolng_gwp100.csv',\n",
       " 'Ezanga_Gabon_Flaring_2020_Oil_nofrack_nolng_gwp20.csv',\n",
       " 'Fateh_United Arab Emirates_Flaring_2020_Oil_nofrack_lng_gwp100.csv',\n",
       " 'Fateh_United Arab Emirates_Flaring_2020_Oil_nofrack_lng_gwp20.csv',\n",
       " 'Fort Worth_United States_Flaring_2020_Gas_frack_lng_gwp100.csv',\n",
       " 'Fort Worth_United States_Flaring_2020_Gas_frack_lng_gwp20.csv',\n",
       " 'Forties_United Kingdom_Flaring_2020_Oil_nofrack_nolng_gwp100.csv',\n",
       " 'Forties_United Kingdom_Flaring_2020_Oil_nofrack_nolng_gwp20.csv',\n",
       " 'Frade_Brazil_Flaring_2020_Oil_nofrack_nolng_gwp100.csv',\n",
       " 'Frade_Brazil_Flaring_2020_Oil_nofrack_nolng_gwp20.csv',\n",
       " 'Gachsaran_Iran_Flaring_2020_Oil_nofrack_nolng_gwp100.csv',\n",
       " 'Gachsaran_Iran_Flaring_2020_Oil_nofrack_nolng_gwp20.csv',\n",
       " 'Ghawar_Saudi Arabia_Flaring_2020_Oil_nofrack_nolng_gwp100.csv',\n",
       " 'Ghawar_Saudi Arabia_Flaring_2020_Oil_nofrack_nolng_gwp20.csv',\n",
       " 'Gippsland_Australia_Flaring_2020_Gas_nofrack_lng_gwp100.csv',\n",
       " 'Gippsland_Australia_Flaring_2020_Gas_nofrack_lng_gwp20.csv',\n",
       " 'Girassol_Angola_Flaring_2020_Oil_nofrack_nolng_gwp100.csv',\n",
       " 'Girassol_Angola_Flaring_2020_Oil_nofrack_nolng_gwp20.csv',\n",
       " 'Gjoa_Norway_Flaring_2020_Gas_nofrack_nolng_gwp100.csv',\n",
       " 'Gjoa_Norway_Flaring_2020_Gas_nofrack_nolng_gwp20.csv',\n",
       " 'Greater Burgan_Kuwait_Flaring_2020_Oil_frack_nolng_gwp100.csv',\n",
       " 'Greater Burgan_Kuwait_Flaring_2020_Oil_frack_nolng_gwp20.csv',\n",
       " 'Greater Gorgon_Australia_Flaring_2020_Gas_nofrack_lng_gwp100.csv',\n",
       " 'Greater Gorgon_Australia_Flaring_2020_Gas_nofrack_lng_gwp20.csv',\n",
       " 'Greater Jubilee_Ghana_Flaring_2020_Oil_nofrack_nolng_gwp100.csv',\n",
       " 'Greater Jubilee_Ghana_Flaring_2020_Oil_nofrack_nolng_gwp20.csv',\n",
       " 'Green River_United States_Flaring_2020_Gas_frack_nolng_gwp100.csv',\n",
       " 'Green River_United States_Flaring_2020_Gas_frack_nolng_gwp20.csv',\n",
       " 'Groningen_Netherlands_Flaring_2020_Gas_nofrack_nolng_gwp100.csv',\n",
       " 'Groningen_Netherlands_Flaring_2020_Gas_nofrack_nolng_gwp20.csv',\n",
       " 'Gudrun_Norway_Flaring_2020_Oil_nofrack_nolng_gwp100.csv',\n",
       " 'Gudrun_Norway_Flaring_2020_Oil_nofrack_nolng_gwp20.csv',\n",
       " 'Gullfaks Sor_Norway_Flaring_2020_Gas_nofrack_nolng_gwp100.csv',\n",
       " 'Gullfaks Sor_Norway_Flaring_2020_Gas_nofrack_nolng_gwp20.csv',\n",
       " 'Gullfaks_Norway_Flaring_2020_Oil_nofrack_nolng_gwp100.csv',\n",
       " 'Gullfaks_Norway_Flaring_2020_Oil_nofrack_nolng_gwp20.csv',\n",
       " 'Halfaya_Iraq_Flaring_2020_Oil_nofrack_nolng_gwp100.csv',\n",
       " 'Halfaya_Iraq_Flaring_2020_Oil_nofrack_nolng_gwp20.csv',\n",
       " 'Hassi Messaoud_Algeria_Flaring_2020_Oil_frack_nolng_gwp100.csv',\n",
       " 'Hassi Messaoud_Algeria_Flaring_2020_Oil_frack_nolng_gwp20.csv',\n",
       " 'Haynesville_United States_Flaring_2020_Gas_frack_lng_gwp100.csv',\n",
       " 'Haynesville_United States_Flaring_2020_Gas_frack_lng_gwp20.csv',\n",
       " 'Hebron_Canada_Flaring_2020_Oil_nofrack_nolng_gwp100.csv',\n",
       " 'Hebron_Canada_Flaring_2020_Oil_nofrack_nolng_gwp20.csv',\n",
       " 'Hibernia_Canada_Flaring_2020_Oil_nofrack_nolng_gwp100.csv',\n",
       " 'Hibernia_Canada_Flaring_2020_Oil_nofrack_nolng_gwp20.csv',\n",
       " 'Idd El Shargi_Qatar_Flaring_2020_Gas_nofrack_lng_gwp100.csv',\n",
       " 'Idd El Shargi_Qatar_Flaring_2020_Gas_nofrack_lng_gwp20.csv',\n",
       " 'Johan Sverdrup_Norway_Flaring_2020_Oil_nofrack_nolng_gwp100.csv',\n",
       " 'Johan Sverdrup_Norway_Flaring_2020_Oil_nofrack_nolng_gwp20.csv',\n",
       " 'KMZ_Mexico_Flaring_2020_Oil_nofrack_nolng_gwp100.csv',\n",
       " 'KMZ_Mexico_Flaring_2020_Oil_nofrack_nolng_gwp20.csv',\n",
       " 'Kern River_United States_Flaring_2020_Oil_nofrack_nolng_gwp100.csv',\n",
       " 'Kern River_United States_Flaring_2020_Oil_nofrack_nolng_gwp20.csv',\n",
       " 'Khuff Gas_Bahrain_Flaring_2020_Gas_nofrack_nolng_gwp100.csv',\n",
       " 'Khuff Gas_Bahrain_Flaring_2020_Gas_nofrack_nolng_gwp20.csv',\n",
       " 'Khurais_Saudi Arabia_Flaring_2020_Oil_nofrack_nolng_gwp100.csv',\n",
       " 'Khurais_Saudi Arabia_Flaring_2020_Oil_nofrack_nolng_gwp20.csv',\n",
       " 'Liza Phase 1_Guyana_Flaring_2020_Oil_nofrack_lng_gwp100.csv',\n",
       " 'Liza Phase 1_Guyana_Flaring_2020_Oil_nofrack_lng_gwp20.csv',\n",
       " 'Lula_Brazil_Flaring_2020_Oil_nofrack_nolng_gwp100.csv',\n",
       " 'Lula_Brazil_Flaring_2020_Oil_nofrack_nolng_gwp20.csv',\n",
       " 'Marcellus_United States_Flaring_2020_Gas_frack_nolng_gwp100.csv',\n",
       " 'Marcellus_United States_Flaring_2020_Gas_frack_nolng_gwp20.csv',\n",
       " 'Mars_United States_Flaring_2020_Oil_nofrack_nolng_gwp100.csv',\n",
       " 'Mars_United States_Flaring_2020_Oil_nofrack_nolng_gwp20.csv',\n",
       " 'Marun_Iran_Flaring_2020_Oil_nofrack_nolng_gwp100.csv',\n",
       " 'Marun_Iran_Flaring_2020_Oil_nofrack_nolng_gwp20.csv',\n",
       " 'Midway-Sunset_United States_Flaring_2020_Oil_nofrack_nolng_gwp100.csv',\n",
       " 'Midway-Sunset_United States_Flaring_2020_Oil_nofrack_nolng_gwp20.csv',\n",
       " 'Minas_Indonesia_Flaring_2020_Oil_nofrack_nolng_gwp100.csv',\n",
       " 'Minas_Indonesia_Flaring_2020_Oil_nofrack_nolng_gwp20.csv',\n",
       " 'Montney AB_Canada_Flaring_2020_Gas_frack_nolng_gwp100.csv',\n",
       " 'Montney AB_Canada_Flaring_2020_Gas_frack_nolng_gwp20.csv',\n",
       " 'Montney BC_Canada_Flaring_2020_Gas_frack_lng_gwp100.csv',\n",
       " 'Montney BC_Canada_Flaring_2020_Gas_frack_lng_gwp20.csv',\n",
       " 'Mubarak_Pakistan_Flaring_2020_Oil_nofrack_nolng_gwp100.csv',\n",
       " 'Mubarak_Pakistan_Flaring_2020_Oil_nofrack_nolng_gwp20.csv',\n",
       " 'Mumbai High_India_Flaring_2020_Oil_nofrack_nolng_gwp100.csv',\n",
       " 'Mumbai High_India_Flaring_2020_Oil_nofrack_nolng_gwp20.csv',\n",
       " 'Okono-Okpoho_Nigeria_Flaring_2020_Oil_nofrack_lng_gwp100.csv',\n",
       " 'Okono-Okpoho_Nigeria_Flaring_2020_Oil_nofrack_lng_gwp20.csv',\n",
       " 'Orinoco Oil Belt_Venezuela_Flaring_2020_Oil_nofrack_nolng_gwp100.csv',\n",
       " 'Orinoco Oil Belt_Venezuela_Flaring_2020_Oil_nofrack_nolng_gwp20.csv',\n",
       " 'Oseberg Blend_Norway_Flaring_2020_Oil_nofrack_nolng_gwp100.csv',\n",
       " 'Oseberg Blend_Norway_Flaring_2020_Oil_nofrack_nolng_gwp20.csv',\n",
       " 'Ourhoud_Algeria_Flaring_2020_Oil_nofrack_nolng_gwp100.csv',\n",
       " 'Ourhoud_Algeria_Flaring_2020_Oil_nofrack_nolng_gwp20.csv',\n",
       " 'Peace River_Canada_Flaring_2020_Oil_nofrack_nolng_gwp100.csv',\n",
       " 'Peace River_Canada_Flaring_2020_Oil_nofrack_nolng_gwp20.csv',\n",
       " 'Permian NM_United States_Flaring_2020_Oil_frack_nolng_gwp100.csv',\n",
       " 'Permian NM_United States_Flaring_2020_Oil_frack_nolng_gwp20.csv',\n",
       " 'Permian TX_United States_Flaring_2020_Oil_frack_lng_gwp100.csv',\n",
       " 'Permian TX_United States_Flaring_2020_Oil_frack_lng_gwp20.csv',\n",
       " 'Powder River_United States_Flaring_2020_Gas_frack_nolng_gwp100.csv',\n",
       " 'Powder River_United States_Flaring_2020_Gas_frack_nolng_gwp20.csv',\n",
       " 'Priobskoye_Russian Federation_Flaring_2020_Oil_frack_nolng_gwp100.csv',\n",
       " 'Priobskoye_Russian Federation_Flaring_2020_Oil_frack_nolng_gwp20.csv',\n",
       " 'Raniganj_India_Flaring_2020_Gas_nofrack_nolng_gwp100.csv',\n",
       " 'Raniganj_India_Flaring_2020_Gas_nofrack_nolng_gwp20.csv',\n",
       " 'Rumaila_Iraq_Flaring_2020_Oil_nofrack_nolng_gwp100.csv',\n",
       " 'Rumaila_Iraq_Flaring_2020_Oil_nofrack_nolng_gwp20.csv',\n",
       " 'Sacha_Ecuador_Flaring_2020_Oil_nofrack_nolng_gwp100.csv',\n",
       " 'Sacha_Ecuador_Flaring_2020_Oil_nofrack_nolng_gwp20.csv',\n",
       " 'Safaniyah_Saudi Arabia_Flaring_2020_Oil_nofrack_nolng_gwp100.csv',\n",
       " 'Safaniyah_Saudi Arabia_Flaring_2020_Oil_nofrack_nolng_gwp20.csv',\n",
       " 'Sakhalin 1_Russian Federation_Flaring_2020_Oil_nofrack_lng_gwp100.csv',\n",
       " 'Sakhalin 1_Russian Federation_Flaring_2020_Oil_nofrack_lng_gwp20.csv',\n",
       " 'Santa Barbara_Venezuela_Flaring_2020_Oil_nofrack_nolng_gwp100.csv',\n",
       " 'Santa Barbara_Venezuela_Flaring_2020_Oil_nofrack_nolng_gwp20.csv',\n",
       " 'Shah Deniz_Azerbaijan_Flaring_2020_Gas_nofrack_nolng_gwp100.csv',\n",
       " 'Shah Deniz_Azerbaijan_Flaring_2020_Gas_nofrack_nolng_gwp20.csv',\n",
       " 'Shah_United Arab Emirates_Flaring_2020_Gas_nofrack_nolng_gwp100.csv',\n",
       " 'Shah_United Arab Emirates_Flaring_2020_Gas_nofrack_nolng_gwp20.csv',\n",
       " 'Shaybah_Saudi Arabia_Flaring_2020_Oil_nofrack_nolng_gwp100.csv',\n",
       " 'Shaybah_Saudi Arabia_Flaring_2020_Oil_nofrack_nolng_gwp20.csv',\n",
       " 'Shengli_China_Flaring_2020_Oil_nofrack_nolng_gwp100.csv',\n",
       " 'Shengli_China_Flaring_2020_Oil_nofrack_nolng_gwp20.csv',\n",
       " 'Snohvit_Norway_Flaring_2020_Gas_nofrack_lng_gwp100.csv',\n",
       " 'Snohvit_Norway_Flaring_2020_Gas_nofrack_lng_gwp20.csv',\n",
       " 'Soku_Nigeria_Flaring_2020_Gas_nofrack_lng_gwp100.csv',\n",
       " 'Soku_Nigeria_Flaring_2020_Gas_nofrack_lng_gwp20.csv',\n",
       " 'South Belridge_United States_Flaring_2020_Oil_nofrack_nolng_gwp100.csv',\n",
       " 'South Belridge_United States_Flaring_2020_Oil_nofrack_nolng_gwp20.csv',\n",
       " 'South Caspian Basin_Turkmenistan_Flaring_2020_Oil_nofrack_nolng_gwp100.csv',\n",
       " 'South Caspian Basin_Turkmenistan_Flaring_2020_Oil_nofrack_nolng_gwp20.csv',\n",
       " 'South Pars_Iran_Flaring_2020_Gas_nofrack_lng_gwp100.csv',\n",
       " 'South Pars_Iran_Flaring_2020_Gas_nofrack_lng_gwp20.csv',\n",
       " 'Sulige_China_Flaring_2020_Gas_frack_nolng_gwp100.csv',\n",
       " 'Sulige_China_Flaring_2020_Gas_frack_nolng_gwp20.csv',\n",
       " 'Suncor Synthetic A_Canada_Flaring_2020_Oil_nofrack_nolng_gwp100.csv',\n",
       " 'Suncor Synthetic A_Canada_Flaring_2020_Oil_nofrack_nolng_gwp20.csv',\n",
       " 'Surat_Australia_Flaring_2020_Gas_nofrack_lng_gwp100.csv',\n",
       " 'Surat_Australia_Flaring_2020_Gas_nofrack_lng_gwp20.csv',\n",
       " 'Syncrude Sweet Premium_Canada_Flaring_2020_Oil_nofrack_nolng_gwp100.csv',\n",
       " 'Syncrude Sweet Premium_Canada_Flaring_2020_Oil_nofrack_nolng_gwp20.csv',\n",
       " 'Takula_Angola_Flaring_2020_Oil_nofrack_nolng_gwp100.csv',\n",
       " 'Takula_Angola_Flaring_2020_Oil_nofrack_nolng_gwp20.csv',\n",
       " 'Tamar_Israel_Flaring_2020_Gas_nofrack_nolng_gwp100.csv',\n",
       " 'Tamar_Israel_Flaring_2020_Gas_nofrack_nolng_gwp20.csv',\n",
       " 'Tangguh_Indonesia_Flaring_2020_Gas_nofrack_lng_gwp100.csv',\n",
       " 'Tangguh_Indonesia_Flaring_2020_Gas_nofrack_lng_gwp20.csv',\n",
       " 'Tarim_China_Flaring_2020_Oil_nofrack_nolng_gwp100.csv',\n",
       " 'Tarim_China_Flaring_2020_Oil_nofrack_nolng_gwp20.csv',\n",
       " 'Tengiz_Kazakhstan_Flaring_2020_Oil_nofrack_nolng_gwp100.csv',\n",
       " 'Tengiz_Kazakhstan_Flaring_2020_Oil_nofrack_nolng_gwp20.csv',\n",
       " 'Termokarstovoye_Russian Federation_Flaring_2020_Oil_nofrack_lng_gwp100.csv',\n",
       " 'Termokarstovoye_Russian Federation_Flaring_2020_Oil_nofrack_lng_gwp20.csv',\n",
       " 'Thunderhorse_United States_Flaring_2020_Oil_nofrack_lng_gwp100.csv',\n",
       " 'Thunderhorse_United States_Flaring_2020_Oil_nofrack_lng_gwp20.csv',\n",
       " 'Tia Juana_Venezuela_Flaring_2020_Oil_nofrack_nolng_gwp100.csv',\n",
       " 'Tia Juana_Venezuela_Flaring_2020_Oil_nofrack_nolng_gwp20.csv',\n",
       " 'Troll_Norway_Flaring_2020_Gas_nofrack_nolng_gwp100.csv',\n",
       " 'Troll_Norway_Flaring_2020_Gas_nofrack_nolng_gwp20.csv',\n",
       " 'Uinta_United States_Flaring_2020_Gas_nofrack_nolng_gwp100.csv',\n",
       " 'Uinta_United States_Flaring_2020_Gas_nofrack_nolng_gwp20.csv',\n",
       " 'Urengoiskoye_Russian Federation_Flaring_2020_Gas_nofrack_nolng_gwp100.csv',\n",
       " 'Urengoiskoye_Russian Federation_Flaring_2020_Gas_nofrack_nolng_gwp20.csv',\n",
       " 'Utica_United States_Flaring_2020_Gas_frack_nolng_gwp100.csv',\n",
       " 'Utica_United States_Flaring_2020_Gas_frack_nolng_gwp20.csv',\n",
       " 'Vaca Muerta_Argentina_Flaring_2020_Gas_frack_lng_gwp100.csv',\n",
       " 'Vaca Muerta_Argentina_Flaring_2020_Gas_frack_lng_gwp20.csv',\n",
       " 'Waha_Libya_Flaring_2020_Oil_nofrack_nolng_gwp100.csv',\n",
       " 'Waha_Libya_Flaring_2020_Oil_nofrack_nolng_gwp20.csv',\n",
       " 'West Qurna 1-2_Iraq_Flaring_2020_Oil_nofrack_nolng_gwp100.csv',\n",
       " 'West Qurna 1-2_Iraq_Flaring_2020_Oil_nofrack_nolng_gwp20.csv',\n",
       " 'Wilmington_United States_Flaring_2020_Oil_nofrack_nolng_gwp100.csv',\n",
       " 'Wilmington_United States_Flaring_2020_Oil_nofrack_nolng_gwp20.csv',\n",
       " 'Yamburgskoye_Russian Federation_Flaring_2020_Gas_frack_nolng_gwp100.csv',\n",
       " 'Yamburgskoye_Russian Federation_Flaring_2020_Gas_frack_nolng_gwp20.csv',\n",
       " 'Zafiro_Equatorial Guinea_Flaring_2020_Oil_nofrack_lng_gwp100.csv',\n",
       " 'Zafiro_Equatorial Guinea_Flaring_2020_Oil_nofrack_lng_gwp20.csv',\n",
       " 'Zakum_United Arab Emirates_Flaring_2020_Oil_nofrack_lng_gwp100.csv',\n",
       " 'Zakum_United Arab Emirates_Flaring_2020_Oil_nofrack_lng_gwp20.csv',\n",
       " 'Zohr_Egypt_Flaring_2020_Gas_nofrack_nolng_gwp100.csv',\n",
       " 'Zohr_Egypt_Flaring_2020_Gas_nofrack_nolng_gwp20.csv',\n",
       " 'Zubair_Iraq_Flaring_2020_Oil_nofrack_nolng_gwp100.csv',\n",
       " 'Zubair_Iraq_Flaring_2020_Oil_nofrack_nolng_gwp20.csv']"
      ]
     },
     "metadata": {},
     "execution_count": 78
    }
   ],
   "metadata": {}
  },
  {
   "cell_type": "code",
   "execution_count": 79,
   "source": [
    "#Create empty lists in which to populate data from csvs\n",
    "flaring_ghg = [] #Flaring M88\n",
    "gwp=[]"
   ],
   "outputs": [],
   "metadata": {}
  },
  {
   "cell_type": "code",
   "execution_count": 80,
   "source": [
    "#fill lists with data from flow csvs\n",
    "Field_name = []\n",
    "original_file = []\n",
    "for file in list_flare:\n",
    "    try:\n",
    "        df = pd.read_csv(d+file,header=None)\n",
    "        flaring_ghg.append(float(df.iloc[87,12]))\n",
    "        Field_name.append(file.split('_')[0])\n",
    "        original_file.append(file)\n",
    "        gwp.append(file.split('_')[7][3:-4].lower())\n",
    "    except: \n",
    "        print(file)"
   ],
   "outputs": [
    {
     "output_type": "stream",
     "name": "stderr",
     "text": [
      "/Users/rwang/opt/anaconda3/lib/python3.8/site-packages/IPython/core/interactiveshell.py:3165: DtypeWarning: Columns (2,3,4,5,6,7,8,9,10,11,12,13,14,15,16,17,19,20,21,22,23,24,25,26,27,28,29,30,31,34) have mixed types.Specify dtype option on import or set low_memory=False.\n",
      "  has_raised = await self.run_ast_nodes(code_ast.body, cell_name,\n"
     ]
    }
   ],
   "metadata": {}
  },
  {
   "cell_type": "code",
   "execution_count": 81,
   "source": [
    "#Create dataframe for flaring data\n",
    "flare_df = pd.DataFrame({'Field_name':Field_name, 'gwp':gwp, #'original_file':original_file,\n",
    "                   'flaring_ghg(t/d)':flaring_ghg,})"
   ],
   "outputs": [],
   "metadata": {}
  },
  {
   "cell_type": "markdown",
   "source": [
    "## Merge Results, Energy Summary, VFF, and Flow into one dataframe"
   ],
   "metadata": {}
  },
  {
   "cell_type": "code",
   "execution_count": 82,
   "source": [
    "results_df['Field name'] = results_df['Field_name'].str.strip()"
   ],
   "outputs": [],
   "metadata": {}
  },
  {
   "cell_type": "code",
   "execution_count": 83,
   "source": [
    "res = results_df['Field name'].to_list()"
   ],
   "outputs": [],
   "metadata": {}
  },
  {
   "cell_type": "code",
   "execution_count": 84,
   "source": [
    "ene = energysummary_df['Field_name'].to_list()"
   ],
   "outputs": [],
   "metadata": {}
  },
  {
   "cell_type": "code",
   "execution_count": 85,
   "source": [
    "vffname = vff_df['Field_name'].to_list()"
   ],
   "outputs": [],
   "metadata": {}
  },
  {
   "cell_type": "code",
   "execution_count": 86,
   "source": [
    "new_list = list(set(res).difference(ene))"
   ],
   "outputs": [],
   "metadata": {}
  },
  {
   "cell_type": "code",
   "execution_count": 87,
   "source": [
    "new_list"
   ],
   "outputs": [
    {
     "output_type": "execute_result",
     "data": {
      "text/plain": [
       "[]"
      ]
     },
     "metadata": {},
     "execution_count": 87
    }
   ],
   "metadata": {}
  },
  {
   "cell_type": "code",
   "execution_count": 88,
   "source": [
    "#merge results and energysummary\n",
    "merge = results_df.merge(energysummary_df, on=['Field_name','gwp'], how = 'outer')"
   ],
   "outputs": [],
   "metadata": {}
  },
  {
   "cell_type": "code",
   "execution_count": 89,
   "source": [
    "#merge in vff\n",
    "merge = merge.merge(vff_df, on=['Field_name','gwp'], how='outer')"
   ],
   "outputs": [],
   "metadata": {}
  },
  {
   "cell_type": "code",
   "execution_count": 90,
   "source": [
    "#merge in flowsheet\n",
    "merge = merge.merge(flowsheet_df, on=['Field_name','gwp'], how='outer')"
   ],
   "outputs": [],
   "metadata": {}
  },
  {
   "cell_type": "code",
   "execution_count": 91,
   "source": [
    "#Add new column for tco2e/yr after all data are merged\n",
    "merge['tCO2e/yr']=merge['Lifecycle GHG emissions']*merge['ES_MJperd']/10**6*365"
   ],
   "outputs": [],
   "metadata": {}
  },
  {
   "cell_type": "code",
   "execution_count": 92,
   "source": [
    "#merge in flaring\n",
    "merge = merge.merge(flare_df,on=['Field_name','gwp'], how='outer')"
   ],
   "outputs": [],
   "metadata": {}
  },
  {
   "cell_type": "markdown",
   "source": [
    "## Check against upstream results"
   ],
   "metadata": {}
  },
  {
   "cell_type": "code",
   "execution_count": 93,
   "source": [
    "#read in upstream_results and make sure we aren't missing any columns here\n",
    "sp_dir = '/Users/rwang/RMI/Climate Action Engine - Documents/OCI Phase 2'\n",
    "connection = sqlite3.connect(sp_dir+\"/OCI_Database.db\")\n",
    "up_mid_down = pd.read_sql('select * from upstream_results',connection)"
   ],
   "outputs": [],
   "metadata": {}
  },
  {
   "cell_type": "code",
   "execution_count": 94,
   "source": [
    "list_up = up_mid_down.columns.to_list()\n",
    "list_merge = merge.columns.to_list()"
   ],
   "outputs": [],
   "metadata": {}
  },
  {
   "cell_type": "code",
   "execution_count": 95,
   "source": [
    "def Diff(li1, li2):\n",
    "    return list(set(li1) - set(li2)) + list(set(li2) - set(li1))"
   ],
   "outputs": [],
   "metadata": {}
  },
  {
   "cell_type": "code",
   "execution_count": 96,
   "source": [
    "print(Diff(list_up,list_merge))"
   ],
   "outputs": [
    {
     "output_type": "stream",
     "name": "stdout",
     "text": [
      "['GWP', 'gwp', 'API gravity', 'Field name', 'Oil production volume', 'flaring_ghg(t/d)']\n"
     ]
    }
   ],
   "metadata": {}
  },
  {
   "cell_type": "markdown",
   "source": [
    "## Export results to csv or database"
   ],
   "metadata": {}
  },
  {
   "cell_type": "code",
   "execution_count": 97,
   "source": [
    "pd.set_option('display.max_columns', None)"
   ],
   "outputs": [],
   "metadata": {}
  },
  {
   "cell_type": "code",
   "execution_count": 98,
   "source": [
    "merge.to_csv('/Users/rwang/RMI/Climate Action Engine - Documents/OCI Phase 2/Upstream/upstream_data_pipeline_sp/Postprocessed_outputs_2/upstream_postprocessed_fix.csv', index=False)\n"
   ],
   "outputs": [],
   "metadata": {}
  },
  {
   "cell_type": "code",
   "execution_count": 99,
   "source": [
    "merge.to_csv('/Users/lschmeisser/Desktop/upstream_postprocessed.csv', index=False)"
   ],
   "outputs": [
    {
     "output_type": "error",
     "ename": "FileNotFoundError",
     "evalue": "[Errno 2] No such file or directory: '/Users/lschmeisser/Desktop/upstream_postprocessed.csv'",
     "traceback": [
      "\u001b[0;31m---------------------------------------------------------------------------\u001b[0m",
      "\u001b[0;31mFileNotFoundError\u001b[0m                         Traceback (most recent call last)",
      "\u001b[0;32m<ipython-input-99-8708fa8ea79a>\u001b[0m in \u001b[0;36m<module>\u001b[0;34m\u001b[0m\n\u001b[0;32m----> 1\u001b[0;31m \u001b[0mmerge\u001b[0m\u001b[0;34m.\u001b[0m\u001b[0mto_csv\u001b[0m\u001b[0;34m(\u001b[0m\u001b[0;34m'/Users/lschmeisser/Desktop/upstream_postprocessed.csv'\u001b[0m\u001b[0;34m,\u001b[0m \u001b[0mindex\u001b[0m\u001b[0;34m=\u001b[0m\u001b[0;32mFalse\u001b[0m\u001b[0;34m)\u001b[0m\u001b[0;34m\u001b[0m\u001b[0;34m\u001b[0m\u001b[0m\n\u001b[0m",
      "\u001b[0;32m~/opt/anaconda3/lib/python3.8/site-packages/pandas/core/generic.py\u001b[0m in \u001b[0;36mto_csv\u001b[0;34m(self, path_or_buf, sep, na_rep, float_format, columns, header, index, index_label, mode, encoding, compression, quoting, quotechar, line_terminator, chunksize, date_format, doublequote, escapechar, decimal, errors, storage_options)\u001b[0m\n\u001b[1;32m   3385\u001b[0m         )\n\u001b[1;32m   3386\u001b[0m \u001b[0;34m\u001b[0m\u001b[0m\n\u001b[0;32m-> 3387\u001b[0;31m         return DataFrameRenderer(formatter).to_csv(\n\u001b[0m\u001b[1;32m   3388\u001b[0m             \u001b[0mpath_or_buf\u001b[0m\u001b[0;34m,\u001b[0m\u001b[0;34m\u001b[0m\u001b[0;34m\u001b[0m\u001b[0m\n\u001b[1;32m   3389\u001b[0m             \u001b[0mline_terminator\u001b[0m\u001b[0;34m=\u001b[0m\u001b[0mline_terminator\u001b[0m\u001b[0;34m,\u001b[0m\u001b[0;34m\u001b[0m\u001b[0;34m\u001b[0m\u001b[0m\n",
      "\u001b[0;32m~/opt/anaconda3/lib/python3.8/site-packages/pandas/io/formats/format.py\u001b[0m in \u001b[0;36mto_csv\u001b[0;34m(self, path_or_buf, encoding, sep, columns, index_label, mode, compression, quoting, quotechar, line_terminator, chunksize, date_format, doublequote, escapechar, errors, storage_options)\u001b[0m\n\u001b[1;32m   1081\u001b[0m             \u001b[0mformatter\u001b[0m\u001b[0;34m=\u001b[0m\u001b[0mself\u001b[0m\u001b[0;34m.\u001b[0m\u001b[0mfmt\u001b[0m\u001b[0;34m,\u001b[0m\u001b[0;34m\u001b[0m\u001b[0;34m\u001b[0m\u001b[0m\n\u001b[1;32m   1082\u001b[0m         )\n\u001b[0;32m-> 1083\u001b[0;31m         \u001b[0mcsv_formatter\u001b[0m\u001b[0;34m.\u001b[0m\u001b[0msave\u001b[0m\u001b[0;34m(\u001b[0m\u001b[0;34m)\u001b[0m\u001b[0;34m\u001b[0m\u001b[0;34m\u001b[0m\u001b[0m\n\u001b[0m\u001b[1;32m   1084\u001b[0m \u001b[0;34m\u001b[0m\u001b[0m\n\u001b[1;32m   1085\u001b[0m         \u001b[0;32mif\u001b[0m \u001b[0mcreated_buffer\u001b[0m\u001b[0;34m:\u001b[0m\u001b[0;34m\u001b[0m\u001b[0;34m\u001b[0m\u001b[0m\n",
      "\u001b[0;32m~/opt/anaconda3/lib/python3.8/site-packages/pandas/io/formats/csvs.py\u001b[0m in \u001b[0;36msave\u001b[0;34m(self)\u001b[0m\n\u001b[1;32m    226\u001b[0m         \"\"\"\n\u001b[1;32m    227\u001b[0m         \u001b[0;31m# apply compression and byte/text conversion\u001b[0m\u001b[0;34m\u001b[0m\u001b[0;34m\u001b[0m\u001b[0;34m\u001b[0m\u001b[0m\n\u001b[0;32m--> 228\u001b[0;31m         with get_handle(\n\u001b[0m\u001b[1;32m    229\u001b[0m             \u001b[0mself\u001b[0m\u001b[0;34m.\u001b[0m\u001b[0mfilepath_or_buffer\u001b[0m\u001b[0;34m,\u001b[0m\u001b[0;34m\u001b[0m\u001b[0;34m\u001b[0m\u001b[0m\n\u001b[1;32m    230\u001b[0m             \u001b[0mself\u001b[0m\u001b[0;34m.\u001b[0m\u001b[0mmode\u001b[0m\u001b[0;34m,\u001b[0m\u001b[0;34m\u001b[0m\u001b[0;34m\u001b[0m\u001b[0m\n",
      "\u001b[0;32m~/opt/anaconda3/lib/python3.8/site-packages/pandas/io/common.py\u001b[0m in \u001b[0;36mget_handle\u001b[0;34m(path_or_buf, mode, encoding, compression, memory_map, is_text, errors, storage_options)\u001b[0m\n\u001b[1;32m    640\u001b[0m                 \u001b[0merrors\u001b[0m \u001b[0;34m=\u001b[0m \u001b[0;34m\"replace\"\u001b[0m\u001b[0;34m\u001b[0m\u001b[0;34m\u001b[0m\u001b[0m\n\u001b[1;32m    641\u001b[0m             \u001b[0;31m# Encoding\u001b[0m\u001b[0;34m\u001b[0m\u001b[0;34m\u001b[0m\u001b[0;34m\u001b[0m\u001b[0m\n\u001b[0;32m--> 642\u001b[0;31m             handle = open(\n\u001b[0m\u001b[1;32m    643\u001b[0m                 \u001b[0mhandle\u001b[0m\u001b[0;34m,\u001b[0m\u001b[0;34m\u001b[0m\u001b[0;34m\u001b[0m\u001b[0m\n\u001b[1;32m    644\u001b[0m                 \u001b[0mioargs\u001b[0m\u001b[0;34m.\u001b[0m\u001b[0mmode\u001b[0m\u001b[0;34m,\u001b[0m\u001b[0;34m\u001b[0m\u001b[0;34m\u001b[0m\u001b[0m\n",
      "\u001b[0;31mFileNotFoundError\u001b[0m: [Errno 2] No such file or directory: '/Users/lschmeisser/Desktop/upstream_postprocessed.csv'"
     ]
    }
   ],
   "metadata": {}
  },
  {
   "cell_type": "code",
   "execution_count": null,
   "source": [
    "merge"
   ],
   "outputs": [],
   "metadata": {}
  },
  {
   "cell_type": "markdown",
   "source": [
    "## Create a spreadsheet that is easier to view (field name and important variables to the left)"
   ],
   "metadata": {
    "tags": []
   }
  },
  {
   "cell_type": "code",
   "execution_count": null,
   "source": [
    "easyview = merge[['Field_name','Field location (Country)','year',\n",
    "'field_type',\n",
    "'frack?',\n",
    "'lng?',\n",
    "'gwp',\n",
    "'Oil production volume', \n",
    "'Field age',\n",
    "'Field depth',\n",
    "'Downhole pump',\n",
    "'Water reinjection ',\n",
    "'Natural gas reinjection',\n",
    "'Water flooding',\n",
    "'Gas lifting',\n",
    "'Gas flooding',\n",
    "'Steam flooding',\n",
    "'Oil sands mine (integrated with upgrader)',\n",
    "'Oil sands mine (non-integrated with upgrader)',\n",
    "'Number of producing wells',\n",
    "'Number of water injecting wells',\n",
    "'Production tubing diameter',\n",
    "'Productivity index',\n",
    "'Reservoir pressure',\n",
    "'Reservoir temperature',\n",
    "'Offshore?',\n",
    "'API gravity',\n",
    "'Gas composition N2',\n",
    "'Gas composition CO2',\n",
    "'Gas composition C1',\n",
    "'Gas composition C2',\n",
    "'Gas composition C3',\n",
    "'Gas composition C4+',\n",
    "'Gas composition H2S',\n",
    "'Gas-to-oil ratio (GOR)',\n",
    "'Water-to-oil ratio (WOR)',\n",
    "'Water injection ratio',\n",
    "'Gas lifting injection ratio',\n",
    "'Gas flooding injection ratio',\n",
    "'Flood gas ',\n",
    "'Liquids unloading practice',\n",
    "'Fraction of CO2 breaking through to producers',\n",
    "'Source of makeup CO2',\n",
    "'Percentage of sequestration credit assigned to the oilfield',\n",
    "'Steam-to-oil ratio (SOR)',\n",
    "'Fraction of required electricity generated onsite',\n",
    "'Fraction of remaining natural gas reinjected',\n",
    "'Fraction of produced water reinjected',\n",
    "'Fraction of steam generation via cogeneration ',\n",
    "'Fraction of steam generation via solar thermal',\n",
    "'Heater/treater',\n",
    "'Stabilizer column',\n",
    "'Upgrader type',\n",
    "'Associated Gas Processing Path',\n",
    "'Flaring-to-oil ratio',\n",
    "'Venting-to-oil ratio (purposeful)',\n",
    "'Volume fraction of diluent',\n",
    "'Low carbon richness (semi-arid grasslands)',\n",
    "'Moderate carbon richness (mixed)',\n",
    "'High carbon richness (forested)',\n",
    "'Low intensity development and low oxidation',\n",
    "'Moderate intensity development and moderate oxidation',\n",
    "'High intensity development and high oxidation',\n",
    "'Ocean tanker',\n",
    "'Barge',\n",
    "'Pipeline',\n",
    "'Rail',\n",
    "'Truck',\n",
    "'Transport distance (one way) - Ocean tanker',\n",
    "'Transport distance (one way) - Barge',\n",
    "'Transport distance (one way) - Pipeline',\n",
    "'Transport distance (one way) - Rail',\n",
    "'Transport distance (one way) - Truck',\n",
    "'Ocean tanker size, if applicable',\n",
    "'Small sources emissions',\n",
    "'e-Total energy consumption',\n",
    "'e-Total GHG emissions',\n",
    "'e-Total GHG emissions-Combustion/land use',\n",
    "'e-Total GHG emissions-VFF',\n",
    "'d-Total energy consumption',\n",
    "'d-Total GHG emissions',\n",
    "'d-Total GHG emissions-Combustion/land use',\n",
    "'d-Total GHG emissions-VFF',\n",
    "'p-Total energy consumption',\n",
    "'p-Total GHG emissions',\n",
    "'p-Total GHG emissions-Combustion/land use',\n",
    "'p-Total GHG emissions-VFF',\n",
    "'s-Total energy consumption',\n",
    "'s-Total GHG emissions',\n",
    "'s-Total GHG emissions-Combustion/land use',\n",
    "'s-Total GHG emissions-VFF',\n",
    "'l-Total energy consumption',\n",
    "'l-Total GHG emissions',\n",
    "'l-Total GHG emissions-Combustion/land use',\n",
    "'l-Total GHG emissions-VFF',\n",
    "'m-Total energy consumption',\n",
    "'m-Total GHG emissions',\n",
    "'m-Total GHG emissions-Combustion/land use',\n",
    "'m-Total GHG emissions-VFF', \n",
    "'w-Total energy consumption',\n",
    "'w-Total GHG emissions',\n",
    "'w-Total GHG emissions-Combustion/land use',\n",
    "'w-Total GHG emissions-VFF',\n",
    "'t-Total energy consumption',\n",
    "'t-Total GHG emissions',\n",
    "'t-Total GHG emissions-Combustion/land use',\n",
    "'t-Total GHG emissions-VFF',\n",
    "'t-Loss factor',\n",
    "'g-Total energy consumption',\n",
    "'g-Total GHG emissions',\n",
    "'g-Total GHG emissions-Combustion/land use',\n",
    "'g-Total GHG emissions-VFF',\n",
    "'Other small sources',\n",
    "'Offsite emissions credit/debit',\n",
    "'Lifecycle energy consumption',\n",
    "'CSS-Total CO2 sequestered',\n",
    "'Lifecycle GHG emissions',\n",
    "'Field-by-field check',\n",
    "'ES_MJperd',\n",
    "'ES_mmbtuperd',\n",
    "'ES_Energy_Density_crude(mmbtu/t)',\n",
    "'ES_Energy_Density_petcoke(mmbtu/t)',\n",
    "'ES_Energy_Density_C2(mmbtu/t)',\n",
    "'ES_Energy_Density_C3(mmbtu/t)',\n",
    "'ES_Energy_Density_C4(mmbtu/t)',\n",
    "'ES_Crude_output(mmbut/d)',\n",
    "'ES_Gas_output(mmbtu/d)',\n",
    "'ES_NGL_output(mmbtu/d)',\n",
    "'ES_Gas_output(MJ/d)',\n",
    "'ES_Petcoke_fuel(mmbtu/d)',\n",
    "'venting_ch4(t/d)',\n",
    "'fugitive_ch4(t/d)',\n",
    "'flaring_ch4(t/d)',\n",
    "'venting_co2(t/d)',\n",
    "'fugitive_co2(t/d)',\n",
    "'venting_ch4_miq(t/d)',\n",
    "'fugitive_ch4_miq(t/d)',\n",
    "'venting_ch4_uponly(t/d)',\n",
    "'fugitive_ch4_uponly(t/d)',\n",
    "'ch4_production(t/d)',\n",
    "'ch4_gatherboostprocess(t/d)',\n",
    "'ch4_transmissionstorage(t/d)',\n",
    "'ch4_2ndproduction(t/d)',\n",
    "'ch4_enduse(t/d)',\n",
    "'tCH4/year',\n",
    "'tCH4/year-miQ',\n",
    "'FS_LPG_export_LPG(t/d)',\n",
    "'FS_LPG_export_C2(t/d)',\n",
    "'FS_LPG_export_C3(t/d)',\n",
    "'FS_LPG_export_C4(t/d)',\n",
    "'FS_Ethane_to_Petchem(t/d)',\n",
    "'FS_Petcoke_to_stock(t/d)',\n",
    "'FS_Gas_at_Wellhead(t/d)',\n",
    "'tCO2e/yr']]"
   ],
   "outputs": [],
   "metadata": {}
  },
  {
   "cell_type": "code",
   "execution_count": null,
   "source": [
    "#Write to excel file\n",
    "#easyview.to_excel('/Users/lschmeisser/RMI/Climate Action Engine - Documents/OCI Phase 2/Upstream/upstream_data_pipeline_sp/Processed_Outputs/easyview.xlsx', index=False)              "
   ],
   "outputs": [],
   "metadata": {
    "scrolled": true,
    "tags": []
   }
  },
  {
   "cell_type": "code",
   "execution_count": null,
   "source": [],
   "outputs": [],
   "metadata": {}
  }
 ],
 "metadata": {
  "kernelspec": {
   "name": "python3",
   "display_name": "Python 3.8.8 64-bit ('base': conda)"
  },
  "language_info": {
   "codemirror_mode": {
    "name": "ipython",
    "version": 3
   },
   "file_extension": ".py",
   "mimetype": "text/x-python",
   "name": "python",
   "nbconvert_exporter": "python",
   "pygments_lexer": "ipython3",
   "version": "3.8.8"
  },
  "interpreter": {
   "hash": "5ccea0d9b7a70875400646c164148aa592b31bf40541a4c6f7aff7a306f1f8ff"
  }
 },
 "nbformat": 4,
 "nbformat_minor": 5
}