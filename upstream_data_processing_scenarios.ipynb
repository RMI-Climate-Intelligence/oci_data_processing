{
 "cells": [
  {
   "cell_type": "markdown",
   "id": "5e98e2e3-752d-455b-9b58-37a0f3c0af9f",
   "metadata": {},
   "source": [
    "# Post Processing for Scenarios"
   ]
  },
  {
   "cell_type": "markdown",
   "id": "6d3f10e9-0a50-4529-8288-d08a9d5435bf",
   "metadata": {},
   "source": [
    "## Import Packages"
   ]
  },
  {
   "cell_type": "code",
   "execution_count": 1,
   "id": "2c0ca3f1-e9ad-4f8e-897a-7613cc8e5442",
   "metadata": {},
   "outputs": [],
   "source": [
    "import pandas as pd\n",
    "import numpy as np\n",
    "import os\n",
    "import glob\n",
    "import sqlite3"
   ]
  },
  {
   "cell_type": "markdown",
   "id": "b02cf2ce-7514-4f2d-a19f-01f7c5dd8714",
   "metadata": {},
   "source": [
    "## Set up for Data Import"
   ]
  },
  {
   "cell_type": "code",
   "execution_count": 2,
   "id": "ab902bf0-bdf0-40c5-9773-32edd3b68b6c",
   "metadata": {},
   "outputs": [],
   "source": [
    "# Get the directory of all csv files\n",
    "d = '/Users/lschmeisser/RMI/Climate Action Engine - Documents/OCI Phase 2/Upstream/upstream_data_pipeline_sp/Outputs_Scenario_updated/'     #path to folder where files are located\n",
    "os.chdir(d)                                                                                   #change directory to path"
   ]
  },
  {
   "cell_type": "code",
   "execution_count": 3,
   "id": "edc6a1be-2bcb-450d-92e8-da2605e265ec",
   "metadata": {
    "tags": []
   },
   "outputs": [],
   "source": [
    "#Define column names for results csvs\n",
    "column_names =  [    \n",
    "'Downhole pump',\n",
    " 'Water reinjection ',\n",
    " 'Natural gas reinjection',\n",
    " 'Water flooding',\n",
    " 'Gas lifting',\n",
    " 'Gas flooding',\n",
    " 'Steam flooding',\n",
    " 'Oil sands mine (integrated with upgrader)',\n",
    " 'Oil sands mine (non-integrated with upgrader)',\n",
    " 'Field location (Country)',\n",
    " 'Field_name',\n",
    " 'Field age',\n",
    " 'Field depth',\n",
    " 'Oil production volume',\n",
    " 'Number of producing wells',\n",
    " 'Number of water injecting wells',\n",
    " 'Production tubing diameter',\n",
    " 'Productivity index',\n",
    " 'Reservoir pressure',\n",
    " 'Reservoir temperature',\n",
    " 'Offshore?',\n",
    " 'API gravity',\n",
    " 'Gas composition N2',\n",
    " 'Gas composition CO2',\n",
    " 'Gas composition C1',\n",
    " 'Gas composition C2',\n",
    " 'Gas composition C3',\n",
    " 'Gas composition C4+',\n",
    " 'Gas composition H2S',\n",
    " 'Gas-to-oil ratio (GOR)',\n",
    " 'Water-to-oil ratio (WOR)',\n",
    " 'Water injection ratio',\n",
    " 'Gas lifting injection ratio',\n",
    " 'Gas flooding injection ratio',\n",
    " 'Flood gas ',\n",
    " 'Liquids unloading practice',\n",
    " 'Fraction of CO2 breaking through to producers',\n",
    " 'Source of makeup CO2',\n",
    " 'Percentage of sequestration credit assigned to the oilfield',\n",
    " 'Steam-to-oil ratio (SOR)',\n",
    " 'Fraction of required electricity generated onsite',\n",
    " 'Fraction of remaining natural gas reinjected',\n",
    " 'Fraction of produced water reinjected',\n",
    " 'Fraction of steam generation via cogeneration ',\n",
    " 'Fraction of steam generation via solar thermal',\n",
    " 'Heater/treater',\n",
    " 'Stabilizer column',\n",
    " 'Upgrader type',\n",
    " 'Associated Gas Processing Path',\n",
    " 'Flaring-to-oil ratio',\n",
    " 'Venting-to-oil ratio (purposeful)',\n",
    " 'Volume fraction of diluent',\n",
    " 'Low carbon richness (semi-arid grasslands)',\n",
    " 'Moderate carbon richness (mixed)',\n",
    " 'High carbon richness (forested)',\n",
    " 'Low intensity development and low oxidation',\n",
    " 'Moderate intensity development and moderate oxidation',\n",
    " 'High intensity development and high oxidation',\n",
    " 'Ocean tanker',\n",
    " 'Barge',\n",
    " 'Pipeline',\n",
    " 'Rail',\n",
    " 'Truck',\n",
    " 'Transport distance (one way) - Ocean tanker',\n",
    " 'Transport distance (one way) - Barge',\n",
    " 'Transport distance (one way) - Pipeline',\n",
    " 'Transport distance (one way) - Rail',\n",
    " 'Transport distance (one way) - Truck',\n",
    " 'Ocean tanker size, if applicable',\n",
    " 'Small sources emissions',\n",
    " 'e-Total energy consumption','e-Total GHG emissions', \n",
    " 'e-Total GHG emissions-Combustion/land use','e-Total GHG emissions-VFF',\n",
    " 'd-Total energy consumption','d-Total GHG emissions', \n",
    " 'd-Total GHG emissions-Combustion/land use','d-Total GHG emissions-VFF',\n",
    " 'p-Total energy consumption','p-Total GHG emissions', \n",
    " 'p-Total GHG emissions-Combustion/land use','p-Total GHG emissions-VFF',\n",
    " 's-Total energy consumption','s-Total GHG emissions', \n",
    " 's-Total GHG emissions-Combustion/land use','s-Total GHG emissions-VFF',\n",
    " 'l-Total energy consumption','l-Total GHG emissions', \n",
    " 'l-Total GHG emissions-Combustion/land use','l-Total GHG emissions-VFF',\n",
    " 'm-Total energy consumption','m-Total GHG emissions', \n",
    " 'm-Total GHG emissions-Combustion/land use','m-Total GHG emissions-VFF',\n",
    " 'w-Total energy consumption','w-Total GHG emissions', \n",
    " 'w-Total GHG emissions-Combustion/land use','w-Total GHG emissions-VFF',\n",
    " 't-Total energy consumption','t-Total GHG emissions', \n",
    " 't-Total GHG emissions-Combustion/land use','t-Total GHG emissions-VFF','t-Loss factor',\n",
    " 'g-Total energy consumption','g-Total GHG emissions', \n",
    " 'g-Total GHG emissions-Combustion/land use','g-Total GHG emissions-VFF',\n",
    " 'Other small sources','Offsite emissions credit/debit','Lifecycle energy consumption',\n",
    " 'CSS-Total CO2 sequestered','Lifecycle GHG emissions','Field-by-field check']"
   ]
  },
  {
   "cell_type": "markdown",
   "id": "30a4439d-78a1-4b69-8dea-96582074d73d",
   "metadata": {},
   "source": [
    "## Process 'Results' csvs"
   ]
  },
  {
   "cell_type": "code",
   "execution_count": 4,
   "id": "10829a85-4fcb-4d31-9ed4-c6753e02383f",
   "metadata": {},
   "outputs": [
    {
     "data": {
      "text/plain": [
       "0"
      ]
     },
     "execution_count": 4,
     "metadata": {},
     "output_type": "execute_result"
    }
   ],
   "source": [
    "#Create list of all results csvs\n",
    "list_results = sorted(glob.glob('*Results*.csv', recursive=True))                             #list all results .csvs\n",
    "len(list_results)                                                                             #how many results files available"
   ]
  },
  {
   "cell_type": "code",
   "execution_count": 5,
   "id": "84a2162e-a96f-4374-88ce-491a96353891",
   "metadata": {},
   "outputs": [],
   "source": [
    "#Define a function called 'clean_df' that goes through excel fil and grabs the rows/columns where results are stored\n",
    "#Then transpose the matrix, assign proper column names, and drop any rows that don't have information and return the clean dataframe\n",
    "def clean_df(df,column_names):\n",
    "    '''clean the df and transpose to map the column names'''\n",
    "    df = df.iloc[: , 7:]\n",
    "    df = df.iloc[[8,9,10,11,12,13,14,15,16,19,20,21,22,23,24,25,26,27,28,29,30,33,35,36,37,38,39,40,41,45,46,47,48,49,\n",
    "         50,54,57,58,61,62,63,64,65,66,67,69,70,71,76,85,86,87,91,92,93,95,96,97,101,102,103,104,105,107,108,109,110,\n",
    "        111,112,114,129,130,131,132,135,136,137,138,141,142,143,144,147,148,149,150,153,154,155,156,159,160,161,162,\n",
    "                 165,166,167,168,171,172,173,174,175,178,179,180,181,183,185,187,190,192,194]]\n",
    "    df_t = df.transpose()\n",
    "    df_t.columns = column_names\n",
    "    df_t = df_t.dropna(how = 'all')\n",
    "    return df_t"
   ]
  },
  {
   "cell_type": "code",
   "execution_count": null,
   "id": "36ac3626-4f21-4d58-985f-6d79cafe8991",
   "metadata": {},
   "outputs": [],
   "source": [
    "#Create an empty list in which to store cleaned results\n",
    "#Loop through each results csv, clean it, add in informatoin about year, field_type, frack, lng, gwp as scraped from file name\n",
    "#If this doesn't work, print the file name as a 'problematic file' in the try/except loop\n",
    "list_df =[]\n",
    "for file in list_results:\n",
    "    try:\n",
    "        df = pd.read_csv(d+file,header = None)  \n",
    "        result = clean_df(df,column_names)\n",
    "        result['original_file']=file\n",
    "        result['year']=file.split('_')[3]\n",
    "        result['field_type']=file.split('_')[4].lower()\n",
    "        result['frack?']= True if file.split('_')[5].lower()=='frack' else False\n",
    "        result['lng?'] = True if file.split('_')[6].lower()=='lng' else False\n",
    "        result['gwp'] = file.split('_')[7][3:].lower()\n",
    "        result['Field_name'] = file.split('_')[0]\n",
    "        scenario = file.split('_')[-1].split('-')[0:-1]\n",
    "        result['Scenario'] = '-'.join(scenario)\n",
    "        result['Scenario_value'] = file.split('_')[-1].split('-')[-1][:-4]\n",
    "        list_df.append(result)\n",
    "    except:\n",
    "        print(\"problematic file: \" + file)\n",
    "        print(list_results.index(file))"
   ]
  },
  {
   "cell_type": "code",
   "execution_count": null,
   "id": "3348176b-20bf-4921-ae57-d2133437fae4",
   "metadata": {},
   "outputs": [],
   "source": [
    "#Combine lists into a results dataframe\n",
    "results_df = pd.concat(list_df)"
   ]
  },
  {
   "cell_type": "code",
   "execution_count": null,
   "id": "91f73f22-f2cc-43d8-a49a-5fd371f2f473",
   "metadata": {},
   "outputs": [],
   "source": [
    "#List out all numerical columns to convert to type float\n",
    "numerical_columns = [\n",
    " 'Field age',\n",
    " 'Field depth',\n",
    " 'Oil production volume',\n",
    " 'Number of producing wells',\n",
    " 'Number of water injecting wells',\n",
    " 'Production tubing diameter',\n",
    " 'Productivity index',\n",
    " 'Reservoir pressure',\n",
    " 'Reservoir temperature',\n",
    " 'Offshore?',\n",
    " 'API gravity',\n",
    " 'Gas composition N2',\n",
    " 'Gas composition CO2',\n",
    " 'Gas composition C1',\n",
    " 'Gas composition C2',\n",
    " 'Gas composition C3',\n",
    " 'Gas composition C4+',\n",
    " 'Gas composition H2S',\n",
    " 'Gas-to-oil ratio (GOR)',\n",
    " 'Water-to-oil ratio (WOR)',\n",
    " 'Water injection ratio',\n",
    " 'Gas lifting injection ratio',\n",
    " 'Gas flooding injection ratio',\n",
    " 'Flood gas ',\n",
    " 'Liquids unloading practice',\n",
    " 'Fraction of CO2 breaking through to producers',\n",
    " 'Source of makeup CO2',\n",
    " 'Percentage of sequestration credit assigned to the oilfield',\n",
    " 'Steam-to-oil ratio (SOR)',\n",
    " 'Fraction of required electricity generated onsite',\n",
    " 'Fraction of remaining natural gas reinjected',\n",
    " 'Fraction of produced water reinjected',\n",
    " 'Fraction of steam generation via cogeneration ',\n",
    " 'Fraction of steam generation via solar thermal',\n",
    " 'Heater/treater',\n",
    " 'Stabilizer column',\n",
    " 'Upgrader type',\n",
    " 'Associated Gas Processing Path',\n",
    " 'Flaring-to-oil ratio',\n",
    " 'Venting-to-oil ratio (purposeful)',\n",
    " 'Volume fraction of diluent',\n",
    " 'Low carbon richness (semi-arid grasslands)',\n",
    " 'Moderate carbon richness (mixed)',\n",
    " 'High carbon richness (forested)',\n",
    " 'Low intensity development and low oxidation',\n",
    " 'Moderate intensity development and moderate oxidation',\n",
    " 'High intensity development and high oxidation',\n",
    " 'Ocean tanker',\n",
    " 'Barge',\n",
    " 'Pipeline',\n",
    " 'Rail',\n",
    " 'Truck',\n",
    " 'Transport distance (one way) - Ocean tanker',\n",
    " 'Transport distance (one way) - Barge',\n",
    " 'Transport distance (one way) - Pipeline',\n",
    " 'Transport distance (one way) - Rail',\n",
    " 'Transport distance (one way) - Truck',\n",
    " 'Ocean tanker size, if applicable',\n",
    " 'Small sources emissions',\n",
    " 'e-Total energy consumption',\n",
    " 'e-Total GHG emissions',\n",
    " 'e-Total GHG emissions-Combustion/land use',\n",
    " 'e-Total GHG emissions-VFF',\n",
    " 'd-Total energy consumption',\n",
    " 'd-Total GHG emissions',\n",
    " 'd-Total GHG emissions-Combustion/land use',\n",
    " 'd-Total GHG emissions-VFF',\n",
    " 'p-Total energy consumption',\n",
    " 'p-Total GHG emissions',\n",
    " 'p-Total GHG emissions-Combustion/land use',\n",
    " 'p-Total GHG emissions-VFF',\n",
    " 's-Total energy consumption',\n",
    " 's-Total GHG emissions',\n",
    " 's-Total GHG emissions-Combustion/land use',\n",
    " 's-Total GHG emissions-VFF',\n",
    " 'l-Total energy consumption',\n",
    " 'l-Total GHG emissions',\n",
    " 'l-Total GHG emissions-Combustion/land use',\n",
    " 'l-Total GHG emissions-VFF',\n",
    " 'm-Total energy consumption',\n",
    " 'm-Total GHG emissions',\n",
    " 'm-Total GHG emissions-Combustion/land use',\n",
    " 'm-Total GHG emissions-VFF',\n",
    " 'w-Total energy consumption',\n",
    " 'w-Total GHG emissions',\n",
    " 'w-Total GHG emissions-Combustion/land use',\n",
    " 'w-Total GHG emissions-VFF',\n",
    " 't-Total energy consumption',\n",
    " 't-Total GHG emissions',\n",
    " 't-Total GHG emissions-Combustion/land use',\n",
    " 't-Total GHG emissions-VFF',\n",
    " 't-Loss factor',\n",
    " 'g-Total energy consumption',\n",
    " 'g-Total GHG emissions',\n",
    " 'g-Total GHG emissions-Combustion/land use',\n",
    " 'g-Total GHG emissions-VFF',\n",
    " 'Other small sources',\n",
    " 'Offsite emissions credit/debit',\n",
    " 'Lifecycle energy consumption',\n",
    " 'CSS-Total CO2 sequestered',\n",
    " 'Lifecycle GHG emissions']"
   ]
  },
  {
   "cell_type": "code",
   "execution_count": null,
   "id": "29f464ba-cfbb-4c1e-83fb-e22227ca1c94",
   "metadata": {},
   "outputs": [],
   "source": [
    "#more clean up of dataframe\n",
    "results_df = results_df.replace(r'^\\s+$', np.nan, regex=True)               #replace empty strings with NA\n",
    "results_df = results_df.replace(r'\\\\', np.nan, regex=True)                  #\n",
    "results_df.reset_index(inplace = True, drop=True)                           #reset index and drop index column\n",
    "results_df[numerical_columns]= results_df[numerical_columns].astype(float)  #set these numerica columns as type float\n",
    "results_df['Field_name']=results_df['Field_name'].apply(lambda x: x.strip())#strip whitespace from field names"
   ]
  },
  {
   "cell_type": "code",
   "execution_count": null,
   "id": "48d48ff6-428e-4bb7-aa3f-5a2e44acd37c",
   "metadata": {},
   "outputs": [],
   "source": [
    "#double check there are no spaces in field names\n",
    "results_df['Field_name'] = results_df['Field_name'].replace(\" \", \"\")"
   ]
  },
  {
   "cell_type": "markdown",
   "id": "0caf9b65-d46e-4f2c-8cd1-4cd900f82af0",
   "metadata": {},
   "source": [
    "## Process 'Energy Summary' csvs"
   ]
  },
  {
   "cell_type": "code",
   "execution_count": null,
   "id": "1c7950aa-0029-4a43-986f-4779dfef3bf7",
   "metadata": {},
   "outputs": [],
   "source": [
    "#Grab energy summary csvs\n",
    "list_energysummary = sorted(glob.glob('*Energy*.csv', recursive=True))   #list all energy summary .csvs\n",
    "len(list_energysummary)                                                  #how many energy summary files - should match number of results csvs"
   ]
  },
  {
   "cell_type": "code",
   "execution_count": null,
   "id": "4fecc097-a548-45ed-9a23-89542c908df4",
   "metadata": {},
   "outputs": [],
   "source": [
    "#Create empty lists to populate with energy summary data\n",
    "ES_MJperd =[]\n",
    "ES_mmbtuperd = []\n",
    "ES_Energy_Density_crude_oil = []\n",
    "ES_Energy_Density_petcoke = []\n",
    "ES_Energy_Density_C2 = []\n",
    "ES_Energy_Density_C3 = []\n",
    "ES_Energy_Density_C4 = []\n",
    "ES_Crude_output = []\n",
    "ES_Gas_output = []\n",
    "ES_NGL_output = []\n",
    "ES_Gas_output_MJ = []\n",
    "ES_Petcoke_fuel =[]\n",
    "Field_name = []\n",
    "original_file = []\n",
    "gwp = []\n",
    "Scenario = []\n",
    "Scenario_value = []\n"
   ]
  },
  {
   "cell_type": "code",
   "execution_count": null,
   "id": "62bdb89c-276d-4ddc-a0df-de611d4fb401",
   "metadata": {},
   "outputs": [],
   "source": [
    "for file in list_energysummary:\n",
    "    df = pd.read_csv(d+file,header=None)\n",
    "    ES_MJperd.append(float(df.iloc[127,5]))\n",
    "    ES_mmbtuperd.append(float(df.iloc[127,4]))\n",
    "    ES_Energy_Density_crude_oil.append(float(df.iloc[132,12]))\n",
    "    ES_Energy_Density_petcoke.append(float(df.iloc[134,12]))\n",
    "    ES_Energy_Density_C2.append(float(df.iloc[140,12]))\n",
    "    ES_Energy_Density_C3.append(float(df.iloc[141,12]))\n",
    "    ES_Energy_Density_C4.append(float(df.iloc[142,12]))\n",
    "   \n",
    "    ES_Crude_output.append(float(df.iloc[88,4]))\n",
    "    ES_Gas_output.append(float(df.iloc[84,4]))\n",
    "    \n",
    "    if df.iloc[120,3] == 'Gas':\n",
    "        ES_Gas_output_MJ.append(float(df.iloc[120,5]))\n",
    "    else:\n",
    "        ES_Gas_output_MJ.append(float(df.iloc[123,5]))\n",
    "        \n",
    "    ES_NGL_output.append(float(df.iloc[86,4]))\n",
    "    ES_Petcoke_fuel.append(float(df.iloc[76,4]))\n",
    "    Field_name.append(file.split('_')[0])\n",
    "    #original_file.append(file)\n",
    "    gwp.append(file.split('_')[7][3:].lower())\n",
    "    scenario = file.split('_')[-1].split('-')[0:-1]\n",
    "    Scenario.append('-'.join(scenario))\n",
    "    Scenario_value.append(file.split('_')[-1].split('-')[-1][:-4])"
   ]
  },
  {
   "cell_type": "code",
   "execution_count": null,
   "id": "a1a30879-d5d3-4bb8-b6f4-6c2ba40029ad",
   "metadata": {},
   "outputs": [],
   "source": [
    "#combine lists of values into dataframe\n",
    "energysummary_df = pd.DataFrame({'Field_name':Field_name,'gwp':gwp, #'original_file':original_file\n",
    "                               'ES_MJperd':ES_MJperd,'ES_mmbtuperd':ES_mmbtuperd,\n",
    "                               'ES_Energy_Density_crude(mmbtu/t)':ES_Energy_Density_crude_oil,'ES_Energy_Density_petcoke(mmbtu/t)':ES_Energy_Density_petcoke,\n",
    "                              'ES_Energy_Density_C2(mmbtu/t)':ES_Energy_Density_C2,'ES_Energy_Density_C3(mmbtu/t)':ES_Energy_Density_C3,\n",
    "                               'ES_Energy_Density_C4(mmbtu/t)':ES_Energy_Density_C4, 'ES_Crude_output(mmbut/d)':ES_Crude_output,\n",
    "                              'ES_Gas_output(mmbtu/d)':ES_Gas_output, 'ES_NGL_output(mmbtu/d)':ES_NGL_output,\n",
    "                              'ES_Gas_output(MJ/d)':ES_Gas_output_MJ,'ES_Petcoke_fuel(mmbtu/d)':ES_Petcoke_fuel})\n"
   ]
  },
  {
   "cell_type": "code",
   "execution_count": null,
   "id": "6341a97a-8b22-49a3-b96e-5b84ae89be38",
   "metadata": {},
   "outputs": [],
   "source": [
    "#double check there are no spaces in field names\n",
    "energysummary_df['Field_name'] = energysummary_df['Field_name'].replace(\" \", \"\")"
   ]
  },
  {
   "cell_type": "markdown",
   "id": "5b23211e-cc2c-4e89-90d5-f7d943c38410",
   "metadata": {},
   "source": [
    "## Process 'VFF' csvs"
   ]
  },
  {
   "cell_type": "code",
   "execution_count": null,
   "id": "4d107bbe-adce-41c5-8ad9-d8a5d823a864",
   "metadata": {},
   "outputs": [],
   "source": [
    "#we want to grab both co2 and ch4 emissions from vff csvs"
   ]
  },
  {
   "cell_type": "code",
   "execution_count": null,
   "id": "e7e518d9-739d-44f1-a77c-58366085b445",
   "metadata": {},
   "outputs": [],
   "source": [
    "#Grab vff csvs\n",
    "list_vff = sorted(glob.glob('*VFF*.csv', recursive=True))   #list all VFF .csvs\n",
    "len(list_vff)"
   ]
  },
  {
   "cell_type": "code",
   "execution_count": null,
   "id": "9327be18-3e4b-4622-9814-734c5c0b33b0",
   "metadata": {},
   "outputs": [],
   "source": [
    "#Create empty lists in which to fill in vff data\n",
    "venting_ch4 =[]\n",
    "venting_ch4_miq = []\n",
    "venting_ch4_uponly = []\n",
    "fugitive_ch4 =[]\n",
    "flaring_ch4 = []\n",
    "fugitive_ch4_miq = []\n",
    "fugitive_ch4_uponly = []\n",
    "venting_production_ch4 = []\n",
    "venting_gatherboostprocesss_ch4 = []\n",
    "venting_transmissionstorage_ch4 = []\n",
    "venting_2ndproduction_ch4 = []\n",
    "venting_enduse_ch4 = []\n",
    "fugitive_production_ch4 = []\n",
    "fugitive_gatherboostprocesss_ch4 = []\n",
    "fugitive_transmissionstorage_ch4 =[]\n",
    "fugitive_2ndproduction_ch4 = []\n",
    "fugitive_enduse_ch4 = []\n",
    "venting_co2 = []\n",
    "fugitive_co2 = []\n",
    "Field_name = []\n",
    "original_file = []\n",
    "gwp = []\n",
    "Scenario = []\n",
    "Scenario_value = []"
   ]
  },
  {
   "cell_type": "code",
   "execution_count": null,
   "id": "6e5f0117-cff9-47bf-98b7-a776e7066c38",
   "metadata": {},
   "outputs": [],
   "source": [
    "#fill in empty lists with data from vff files\n",
    "for file in list_vff:\n",
    "    df = pd.read_csv(d+file,header=None)\n",
    "    venting_ch4.append(sum(df.iloc[87:134,9].apply(lambda x:float(x))))\n",
    "    fugitive_ch4.append(sum(df.iloc[87:133,10].apply(lambda x:float(x))))\n",
    "    flaring_ch4.append(df.iloc[133,10])                                     #always going to be K134\n",
    "    venting_co2.append(sum(df.iloc[87:134,7].apply(lambda x:float(x))))\n",
    "    fugitive_co2.append(sum(df.iloc[87:134,8].apply(lambda x:float(x))))\n",
    "    venting_production_ch4.append(sum(df.iloc[87:107,9].apply(lambda x:float(x))))\n",
    "    venting_gatherboostprocesss_ch4.append(sum(df.iloc[107:112,9].apply(lambda x:float(x))))\n",
    "    venting_transmissionstorage_ch4.append(sum(df.iloc[112:117,9].apply(lambda x:float(x))))\n",
    "    venting_2ndproduction_ch4.append(sum(df.iloc[123:133,9].apply(lambda x:float(x))))\n",
    "    venting_enduse_ch4.append(float(df.iloc[122,9]))\n",
    "    fugitive_production_ch4.append(sum(df.iloc[87:107,10].apply(lambda x:float(x))))\n",
    "    fugitive_gatherboostprocesss_ch4.append(sum(df.iloc[107:112,10].apply(lambda x:float(x))))\n",
    "    fugitive_transmissionstorage_ch4.append(sum(df.iloc[112:117,10].apply(lambda x:float(x))))\n",
    "    fugitive_2ndproduction_ch4.append(sum(df.iloc[123:133,10].apply(lambda x:float(x))))\n",
    "    fugitive_enduse_ch4.append((float(df.iloc[122,10])))\n",
    "    venting_ch4_miq= [sum(x) for x in zip(venting_production_ch4, venting_2ndproduction_ch4)]\n",
    "    fugitive_ch4_miq= [sum(x) for x in zip(fugitive_production_ch4, fugitive_2ndproduction_ch4)]\n",
    "    venting_ch4_uponly = [sum(x) for x in zip(venting_production_ch4,venting_gatherboostprocesss_ch4,venting_2ndproduction_ch4)]\n",
    "    fugitive_ch4_uponly = [sum(x) for x in zip(fugitive_production_ch4,fugitive_gatherboostprocesss_ch4,fugitive_2ndproduction_ch4)]\n",
    "    Field_name.append(file.split('_')[0])\n",
    "    #original_file.append(file)\n",
    "    gwp.append(file.split('_')[7][3:].lower())\n",
    "    scenario = file.split('_')[-1].split('-')[0:-1]\n",
    "    Scenario.append('-'.join(scenario))\n",
    "    Scenario_value.append(file.split('_')[-1].split('-')[-1][:-4])"
   ]
  },
  {
   "cell_type": "code",
   "execution_count": null,
   "id": "7c64c533-04f2-4411-b9d6-5fb31571296d",
   "metadata": {},
   "outputs": [],
   "source": [
    "#combine lists of data into dataframe\n",
    "vff_df = pd.DataFrame({'Field_name':Field_name, 'gwp':gwp, #'original_file':original_file,\n",
    "                   'venting_ch4(t/d)':venting_ch4,'fugitive_ch4(t/d)':fugitive_ch4,\n",
    "                   'flaring_ch4(t/d)':flaring_ch4,'venting_co2(t/d)':venting_co2,'fugitive_co2(t/d)':fugitive_co2,\n",
    "                   'venting_ch4_miq(t/d)':venting_ch4_miq,'fugitive_ch4_miq(t/d)':fugitive_ch4_miq,\n",
    "                   'venting_ch4_uponly(t/d)':venting_ch4_uponly,'fugitive_ch4_uponly(t/d)':fugitive_ch4_uponly,\n",
    "                   'ch4_production(t/d)': [sum(x) for x in zip(venting_production_ch4,fugitive_production_ch4)],\n",
    "                   'ch4_gatherboostprocess(t/d)': [sum(x) for x in zip(venting_gatherboostprocesss_ch4,fugitive_gatherboostprocesss_ch4)],\n",
    "                   'ch4_transmissionstorage(t/d)': [sum(x) for x in zip(venting_transmissionstorage_ch4,fugitive_transmissionstorage_ch4)],\n",
    "                   'ch4_2ndproduction(t/d)':[sum(x) for x in zip(venting_2ndproduction_ch4,fugitive_2ndproduction_ch4)],\n",
    "                   'ch4_enduse(t/d)':[sum(x) for x in zip(venting_enduse_ch4,fugitive_enduse_ch4)]})"
   ]
  },
  {
   "cell_type": "code",
   "execution_count": null,
   "id": "ff3e1c83-05eb-45ed-8b50-9ae8b1223f24",
   "metadata": {},
   "outputs": [],
   "source": [
    "#add in new columns for tCH4/year and tCH4/year-miQ\n",
    "vff_df['tCH4/year'] = (vff_df['flaring_ch4(t/d)'].astype(float)+vff_df['venting_ch4(t/d)']+vff_df['fugitive_ch4(t/d)'])*365\n",
    "vff_df['tCH4/year-miQ']=(vff_df['flaring_ch4(t/d)'].astype(float)+vff_df['venting_ch4_miq(t/d)']+vff_df['fugitive_ch4_miq(t/d)'])*365"
   ]
  },
  {
   "cell_type": "code",
   "execution_count": null,
   "id": "de134db2-1187-4ec4-b870-8c329ff3eb3b",
   "metadata": {},
   "outputs": [],
   "source": [
    "#double check field names don't have spaces\n",
    "vff_df['Field_name'] = vff_df['Field_name'].replace(\" \", \"\")"
   ]
  },
  {
   "cell_type": "markdown",
   "id": "ec0ac117-ef40-4128-a75c-5a37c3f19f6c",
   "metadata": {},
   "source": [
    "## Add in data from 'Flow' csvs"
   ]
  },
  {
   "cell_type": "code",
   "execution_count": null,
   "id": "8abcb1d0-d5e4-481d-a4fd-5774134a5038",
   "metadata": {},
   "outputs": [],
   "source": [
    "#Grab flow sheet csvs\n",
    "list_flow = sorted(glob.glob('*Flow*.csv', recursive=True))   #list all Flow .csvs\n",
    "len(list_flow)"
   ]
  },
  {
   "cell_type": "code",
   "execution_count": null,
   "id": "b6bf6685-203b-4e4c-9f71-ecdd1090eb32",
   "metadata": {},
   "outputs": [],
   "source": [
    "#Create empty lists in which to populate data from csvs\n",
    "FS_LPG_export_LPG = [] #Flow Sheet!W9\n",
    "FS_LPG_export_C2 = [] #W17\n",
    "FS_LPG_export_C3 = [] #W18\n",
    "FS_LPG_export_C4  = [] #W19 \n",
    "FS_Ethane_to_Petchem = [] #CP17\n",
    "FS_Petcoke_to_stock =[]\n",
    "FS_Gas_at_Wellhead =[] #AF24\n",
    "Field_name = []\n",
    "original_file = []\n",
    "gwp = []\n",
    "Scenario = []\n",
    "Scenario_value = []"
   ]
  },
  {
   "cell_type": "code",
   "execution_count": null,
   "id": "a26398dc-2b57-4a73-8173-5850293f67af",
   "metadata": {},
   "outputs": [],
   "source": [
    "#fill lists with data from flow csvs\n",
    "Field_name = []\n",
    "original_file = []\n",
    "for file in list_flow:\n",
    "    df = pd.read_csv(d+file,header=None)\n",
    "    FS_LPG_export_LPG.append(float(df.iloc[8,22]))\n",
    "    FS_LPG_export_C2.append(float(df.iloc[16,22]))\n",
    "    FS_LPG_export_C3.append(float(df.iloc[17,22]))\n",
    "    FS_LPG_export_C4.append(float(df.iloc[18,22]))\n",
    "    FS_Ethane_to_Petchem.append(float(df.iloc[16,93]))\n",
    "    FS_Petcoke_to_stock.append(float(df.iloc[6,214]))\n",
    "    FS_Gas_at_Wellhead.append(float(df.iloc[23,31]))\n",
    "    Field_name.append(file.split('_')[0])\n",
    "    original_file.append(file)\n",
    "    gwp.append(file.split('_')[7][3:].lower())\n",
    "    scenario = file.split('_')[-1].split('-')[0:-1]\n",
    "    Scenario.append('-'.join(scenario))\n",
    "    Scenario_value.append(file.split('_')[-1].split('-')[-1][:-4])"
   ]
  },
  {
   "cell_type": "code",
   "execution_count": null,
   "id": "13768dea-3ac2-4485-b461-6dae502c4239",
   "metadata": {},
   "outputs": [],
   "source": [
    "#Create dataframe for flow data\n",
    "flowsheet_df = pd.DataFrame({'Field_name':Field_name, 'gwp':gwp, #'original_file':original_file,\n",
    "                   'FS_LPG_export_LPG(t/d)':FS_LPG_export_LPG,'FS_LPG_export_C2(t/d)':FS_LPG_export_C2,\n",
    "                   'FS_LPG_export_C3(t/d)': FS_LPG_export_C3, 'FS_LPG_export_C4(t/d)':FS_LPG_export_C4,\n",
    "                   'FS_Ethane_to_Petchem(t/d)':FS_Ethane_to_Petchem,\n",
    "                   'FS_Petcoke_to_stock(t/d)':FS_Petcoke_to_stock,'FS_Gas_at_Wellhead(t/d)':FS_Gas_at_Wellhead})"
   ]
  },
  {
   "cell_type": "code",
   "execution_count": null,
   "id": "160ee3ed-299b-4d03-915c-f1ab20108ef1",
   "metadata": {},
   "outputs": [],
   "source": [
    "#double check no spaces in field names\n",
    "flowsheet_df['Field_name'] = flowsheet_df['Field_name'].replace(\" \", \"\")"
   ]
  },
  {
   "cell_type": "markdown",
   "id": "297cd92c-7ac8-4eb4-a26b-1c70bcb15427",
   "metadata": {},
   "source": [
    "## Merge Results, Energy Summary, VFF, and Flow into one dataframe"
   ]
  },
  {
   "cell_type": "code",
   "execution_count": null,
   "id": "ee3f1952-0d82-446c-bd20-e0f05bcdbb66",
   "metadata": {},
   "outputs": [],
   "source": [
    "print(len(results_df))\n",
    "print(len(energysummary_df))\n",
    "print(len(vff_df))\n",
    "print(len(flowsheet_df))"
   ]
  },
  {
   "cell_type": "code",
   "execution_count": null,
   "id": "b4a21822-58c4-4447-afc3-86b0fbe73d13",
   "metadata": {},
   "outputs": [],
   "source": [
    "#merge results and energysummary\n",
    "merge = results_df.merge(energysummary_df, on=['Field_name','gwp','Scenario','Scenario_value'], how = 'outer')"
   ]
  },
  {
   "cell_type": "code",
   "execution_count": null,
   "id": "f46adf94-7a85-4020-befe-d81fd65dafdb",
   "metadata": {},
   "outputs": [],
   "source": [
    "#merge in vff\n",
    "merge = merge.merge(vff_df, on=['Field_name','gwp','Scenario','Scenario_value'], how='outer')"
   ]
  },
  {
   "cell_type": "code",
   "execution_count": null,
   "id": "9baa4ca7-d853-48e1-a464-5a7db93ea806",
   "metadata": {},
   "outputs": [],
   "source": [
    "#merge in flowsheet\n",
    "merge = merge.merge(flowsheet_df, on=['Field_name','gwp','Scenario','Scenario_value'], how='outer')"
   ]
  },
  {
   "cell_type": "code",
   "execution_count": null,
   "id": "90e30a9b-0dea-4448-a686-066eb0e5b3b4",
   "metadata": {},
   "outputs": [],
   "source": [
    "#Add new column for tco2e/yr after all data are merged\n",
    "merge['tCO2e/yr']=merge['Lifecycle GHG emissions']*merge['ES_MJperd']/10**6*365"
   ]
  },
  {
   "cell_type": "markdown",
   "id": "86bf7848-ec79-4277-a636-d3fdcb8b40c7",
   "metadata": {},
   "source": [
    "## Check against upstream results"
   ]
  },
  {
   "cell_type": "code",
   "execution_count": null,
   "id": "71561da6-a5c2-4c52-9d8d-7e975fc4cf73",
   "metadata": {},
   "outputs": [],
   "source": [
    "#read in upstream_results and make sure we aren't missing any columns here\n",
    "sp_dir = '/Users/lschmeisser/RMI/Climate Action Engine - Documents/OCI Phase 2'\n",
    "connection = sqlite3.connect(sp_dir+\"/OCI_Database.db\")\n",
    "up_mid_down = pd.read_sql('select * from upstream_results',connection)"
   ]
  },
  {
   "cell_type": "code",
   "execution_count": null,
   "id": "a2681502-f7e9-41ce-92ea-e386ebf7e7d5",
   "metadata": {},
   "outputs": [],
   "source": [
    "list_up = up_mid_down.columns.to_list()\n",
    "list_merge = merge.columns.to_list()"
   ]
  },
  {
   "cell_type": "markdown",
   "id": "6fe55438-b1ba-404f-9e2c-a8eebb386088",
   "metadata": {},
   "source": [
    "## Export results to csv or database"
   ]
  },
  {
   "cell_type": "code",
   "execution_count": null,
   "id": "78d439ec-412b-47c9-ae7e-ecf2a813e878",
   "metadata": {},
   "outputs": [],
   "source": [
    "pd.set_option('display.max_columns', None)"
   ]
  },
  {
   "cell_type": "code",
   "execution_count": null,
   "id": "946d633f-8de7-40c0-8452-6df12c691743",
   "metadata": {},
   "outputs": [],
   "source": [
    "merge.to_csv('/Users/lschmeisser/RMI/Climate Action Engine - Documents/OCI Phase 2/Upstream/upstream_data_pipeline_sp/Postprocessed_outputs_2/upstream_postprocessed_scenarios.csv', index=False)\n"
   ]
  },
  {
   "cell_type": "code",
   "execution_count": null,
   "id": "509c5d7d-80f9-4fc3-b7dd-7735af70c7af",
   "metadata": {},
   "outputs": [],
   "source": [
    "merge.to_csv('/Users/lschmeisser/Desktop/upstream_postprocessed_scenarios.csv', index=False)\n"
   ]
  },
  {
   "cell_type": "markdown",
   "id": "b8a4b8bf-4e58-4fe9-9d9b-e8db414176fe",
   "metadata": {},
   "source": [
    "## Create a spreadsheet that is easier to view (field name and important variables to the left)"
   ]
  },
  {
   "cell_type": "code",
   "execution_count": null,
   "id": "628ba71b-8e99-4913-a471-028d05a0f82f",
   "metadata": {},
   "outputs": [],
   "source": [
    "easyview = merge[['Field_name','Field location (Country)','year',\n",
    "'field_type',\n",
    "'frack?',\n",
    "'lng?',\n",
    "'gwp',\n",
    "'Oil production volume', \n",
    "'Field age',\n",
    "'Field depth',\n",
    "'Downhole pump',\n",
    "'Water reinjection ',\n",
    "'Natural gas reinjection',\n",
    "'Water flooding',\n",
    "'Gas lifting',\n",
    "'Gas flooding',\n",
    "'Steam flooding',\n",
    "'Oil sands mine (integrated with upgrader)',\n",
    "'Oil sands mine (non-integrated with upgrader)',\n",
    "'Number of producing wells',\n",
    "'Number of water injecting wells',\n",
    "'Production tubing diameter',\n",
    "'Productivity index',\n",
    "'Reservoir pressure',\n",
    "'Reservoir temperature',\n",
    "'Offshore?',\n",
    "'API gravity',\n",
    "'Gas composition N2',\n",
    "'Gas composition CO2',\n",
    "'Gas composition C1',\n",
    "'Gas composition C2',\n",
    "'Gas composition C3',\n",
    "'Gas composition C4+',\n",
    "'Gas composition H2S',\n",
    "'Gas-to-oil ratio (GOR)',\n",
    "'Water-to-oil ratio (WOR)',\n",
    "'Water injection ratio',\n",
    "'Gas lifting injection ratio',\n",
    "'Gas flooding injection ratio',\n",
    "'Flood gas ',\n",
    "'Liquids unloading practice',\n",
    "'Fraction of CO2 breaking through to producers',\n",
    "'Source of makeup CO2',\n",
    "'Percentage of sequestration credit assigned to the oilfield',\n",
    "'Steam-to-oil ratio (SOR)',\n",
    "'Fraction of required electricity generated onsite',\n",
    "'Fraction of remaining natural gas reinjected',\n",
    "'Fraction of produced water reinjected',\n",
    "'Fraction of steam generation via cogeneration ',\n",
    "'Fraction of steam generation via solar thermal',\n",
    "'Heater/treater',\n",
    "'Stabilizer column',\n",
    "'Upgrader type',\n",
    "'Associated Gas Processing Path',\n",
    "'Flaring-to-oil ratio',\n",
    "'Venting-to-oil ratio (purposeful)',\n",
    "'Volume fraction of diluent',\n",
    "'Low carbon richness (semi-arid grasslands)',\n",
    "'Moderate carbon richness (mixed)',\n",
    "'High carbon richness (forested)',\n",
    "'Low intensity development and low oxidation',\n",
    "'Moderate intensity development and moderate oxidation',\n",
    "'High intensity development and high oxidation',\n",
    "'Ocean tanker',\n",
    "'Barge',\n",
    "'Pipeline',\n",
    "'Rail',\n",
    "'Truck',\n",
    "'Transport distance (one way) - Ocean tanker',\n",
    "'Transport distance (one way) - Barge',\n",
    "'Transport distance (one way) - Pipeline',\n",
    "'Transport distance (one way) - Rail',\n",
    "'Transport distance (one way) - Truck',\n",
    "'Ocean tanker size, if applicable',\n",
    "'Small sources emissions',\n",
    "'e-Total energy consumption',\n",
    "'e-Total GHG emissions',\n",
    "'e-Total GHG emissions-Combustion/land use',\n",
    "'e-Total GHG emissions-VFF',\n",
    "'d-Total energy consumption',\n",
    "'d-Total GHG emissions',\n",
    "'d-Total GHG emissions-Combustion/land use',\n",
    "'d-Total GHG emissions-VFF',\n",
    "'p-Total energy consumption',\n",
    "'p-Total GHG emissions',\n",
    "'p-Total GHG emissions-Combustion/land use',\n",
    "'p-Total GHG emissions-VFF',\n",
    "'s-Total energy consumption',\n",
    "'s-Total GHG emissions',\n",
    "'s-Total GHG emissions-Combustion/land use',\n",
    "'s-Total GHG emissions-VFF',\n",
    "'l-Total energy consumption',\n",
    "'l-Total GHG emissions',\n",
    "'l-Total GHG emissions-Combustion/land use',\n",
    "'l-Total GHG emissions-VFF',\n",
    "'m-Total energy consumption',\n",
    "'m-Total GHG emissions',\n",
    "'m-Total GHG emissions-Combustion/land use',\n",
    "'m-Total GHG emissions-VFF', \n",
    "'w-Total energy consumption',\n",
    "'w-Total GHG emissions',\n",
    "'w-Total GHG emissions-Combustion/land use',\n",
    "'w-Total GHG emissions-VFF',\n",
    "'t-Total energy consumption',\n",
    "'t-Total GHG emissions',\n",
    "'t-Total GHG emissions-Combustion/land use',\n",
    "'t-Total GHG emissions-VFF',\n",
    "'t-Loss factor',\n",
    "'g-Total energy consumption',\n",
    "'g-Total GHG emissions',\n",
    "'g-Total GHG emissions-Combustion/land use',\n",
    "'g-Total GHG emissions-VFF',\n",
    "'Other small sources',\n",
    "'Offsite emissions credit/debit',\n",
    "'Lifecycle energy consumption',\n",
    "'CSS-Total CO2 sequestered',\n",
    "'Lifecycle GHG emissions',\n",
    "'Field-by-field check',\n",
    "'ES_MJperd',\n",
    "'ES_mmbtuperd',\n",
    "'ES_Energy_Density_crude(mmbtu/t)',\n",
    "'ES_Energy_Density_petcoke(mmbtu/t)',\n",
    "'ES_Energy_Density_C2(mmbtu/t)',\n",
    "'ES_Energy_Density_C3(mmbtu/t)',\n",
    "'ES_Energy_Density_C4(mmbtu/t)',\n",
    "'ES_Crude_output(mmbut/d)',\n",
    "'ES_Gas_output(mmbtu/d)',\n",
    "'ES_NGL_output(mmbtu/d)',\n",
    "'ES_Gas_output(MJ/d)',\n",
    "'ES_Petcoke_fuel(mmbtu/d)',\n",
    "'venting_ch4(t/d)',\n",
    "'fugitive_ch4(t/d)',\n",
    "'flaring_ch4(t/d)',\n",
    "'venting_co2(t/d)',\n",
    "'fugitive_co2(t/d)',\n",
    "'venting_ch4_miq(t/d)',\n",
    "'fugitive_ch4_miq(t/d)',\n",
    "'venting_ch4_uponly(t/d)',\n",
    "'fugitive_ch4_uponly(t/d)',\n",
    "'ch4_production(t/d)',\n",
    "'ch4_gatherboostprocess(t/d)',\n",
    "'ch4_transmissionstorage(t/d)',\n",
    "'ch4_2ndproduction(t/d)',\n",
    "'ch4_enduse(t/d)',\n",
    "'tCH4/year',\n",
    "'tCH4/year-miQ',\n",
    "'FS_LPG_export_LPG(t/d)',\n",
    "'FS_LPG_export_C2(t/d)',\n",
    "'FS_LPG_export_C3(t/d)',\n",
    "'FS_LPG_export_C4(t/d)',\n",
    "'FS_Ethane_to_Petchem(t/d)',\n",
    "'FS_Petcoke_to_stock(t/d)',\n",
    "'FS_Gas_at_Wellhead(t/d)',\n",
    "'tCO2e/yr']]"
   ]
  },
  {
   "cell_type": "code",
   "execution_count": null,
   "id": "3a657d63-91b7-433e-b8f9-affb42c3efa1",
   "metadata": {
    "scrolled": true,
    "tags": []
   },
   "outputs": [],
   "source": [
    "#Write to excel file\n",
    "easyview.to_excel('/Users/lschmeisser/RMI/Climate Action Engine - Documents/OCI Phase 2/Upstream/upstream_data_pipeline_sp/Postprocessed_outputs_2/easyview_scenarios.xlsx', index=False)              \n"
   ]
  },
  {
   "cell_type": "code",
   "execution_count": null,
   "id": "04666b8d-99b8-4c8f-a37f-bcce59930ded",
   "metadata": {},
   "outputs": [],
   "source": []
  }
 ],
 "metadata": {
  "kernelspec": {
   "display_name": "Python 3 (ipykernel)",
   "language": "python",
   "name": "python3"
  },
  "language_info": {
   "codemirror_mode": {
    "name": "ipython",
    "version": 3
   },
   "file_extension": ".py",
   "mimetype": "text/x-python",
   "name": "python",
   "nbconvert_exporter": "python",
   "pygments_lexer": "ipython3",
   "version": "3.9.12"
  }
 },
 "nbformat": 4,
 "nbformat_minor": 5
}
