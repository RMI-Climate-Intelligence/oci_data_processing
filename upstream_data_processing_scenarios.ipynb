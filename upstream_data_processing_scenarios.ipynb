{
 "cells": [
  {
   "cell_type": "markdown",
   "source": [
    "# Post Processing for Scenarios"
   ],
   "metadata": {}
  },
  {
   "cell_type": "markdown",
   "source": [
    "## Import Packages"
   ],
   "metadata": {}
  },
  {
   "cell_type": "code",
   "execution_count": 1,
   "source": [
    "import pandas as pd\n",
    "import numpy as np\n",
    "import os\n",
    "import glob\n",
    "import sqlite3"
   ],
   "outputs": [],
   "metadata": {}
  },
  {
   "cell_type": "markdown",
   "source": [
    "## Set up for Data Import"
   ],
   "metadata": {}
  },
  {
   "cell_type": "code",
   "execution_count": 2,
   "source": [
    "# Get the directory of all csv files\n",
    "d = '/Users/rwang/RMI/Climate Action Engine - Documents/OCI Phase 2/Upstream/upstream_data_pipeline_sp/Outputs_Scenario_updated/'     #path to folder where files are located\n",
    "os.chdir(d)                                                                                   #change directory to path"
   ],
   "outputs": [],
   "metadata": {}
  },
  {
   "cell_type": "code",
   "execution_count": 3,
   "source": [
    "#Define column names for results csvs\n",
    "column_names =  [    \n",
    "'Downhole pump',\n",
    " 'Water reinjection ',\n",
    " 'Natural gas reinjection',\n",
    " 'Water flooding',\n",
    " 'Gas lifting',\n",
    " 'Gas flooding',\n",
    " 'Steam flooding',\n",
    " 'Oil sands mine (integrated with upgrader)',\n",
    " 'Oil sands mine (non-integrated with upgrader)',\n",
    " 'Field location (Country)',\n",
    " 'Field_name',\n",
    " 'Field age',\n",
    " 'Field depth',\n",
    " 'Oil production volume',\n",
    " 'Number of producing wells',\n",
    " 'Number of water injecting wells',\n",
    " 'Production tubing diameter',\n",
    " 'Productivity index',\n",
    " 'Reservoir pressure',\n",
    " 'Reservoir temperature',\n",
    " 'Offshore?',\n",
    " 'API gravity',\n",
    " 'Gas composition N2',\n",
    " 'Gas composition CO2',\n",
    " 'Gas composition C1',\n",
    " 'Gas composition C2',\n",
    " 'Gas composition C3',\n",
    " 'Gas composition C4+',\n",
    " 'Gas composition H2S',\n",
    " 'Gas-to-oil ratio (GOR)',\n",
    " 'Water-to-oil ratio (WOR)',\n",
    " 'Water injection ratio',\n",
    " 'Gas lifting injection ratio',\n",
    " 'Gas flooding injection ratio',\n",
    " 'Flood gas ',\n",
    " 'Liquids unloading practice',\n",
    " 'Fraction of CO2 breaking through to producers',\n",
    " 'Source of makeup CO2',\n",
    " 'Percentage of sequestration credit assigned to the oilfield',\n",
    " 'Steam-to-oil ratio (SOR)',\n",
    " 'Fraction of required electricity generated onsite',\n",
    " 'Fraction of remaining natural gas reinjected',\n",
    " 'Fraction of produced water reinjected',\n",
    " 'Fraction of steam generation via cogeneration ',\n",
    " 'Fraction of steam generation via solar thermal',\n",
    " 'Heater/treater',\n",
    " 'Stabilizer column',\n",
    " 'Upgrader type',\n",
    " 'Associated Gas Processing Path',\n",
    " 'Flaring-to-oil ratio',\n",
    " 'Venting-to-oil ratio (purposeful)',\n",
    " 'Volume fraction of diluent',\n",
    " 'Low carbon richness (semi-arid grasslands)',\n",
    " 'Moderate carbon richness (mixed)',\n",
    " 'High carbon richness (forested)',\n",
    " 'Low intensity development and low oxidation',\n",
    " 'Moderate intensity development and moderate oxidation',\n",
    " 'High intensity development and high oxidation',\n",
    " 'Ocean tanker',\n",
    " 'Barge',\n",
    " 'Pipeline',\n",
    " 'Rail',\n",
    " 'Truck',\n",
    " 'Transport distance (one way) - Ocean tanker',\n",
    " 'Transport distance (one way) - Barge',\n",
    " 'Transport distance (one way) - Pipeline',\n",
    " 'Transport distance (one way) - Rail',\n",
    " 'Transport distance (one way) - Truck',\n",
    " 'Ocean tanker size, if applicable',\n",
    " 'Small sources emissions',\n",
    " 'e-Total energy consumption','e-Total GHG emissions', \n",
    " 'e-Total GHG emissions-Combustion/land use','e-Total GHG emissions-VFF',\n",
    " 'd-Total energy consumption','d-Total GHG emissions', \n",
    " 'd-Total GHG emissions-Combustion/land use','d-Total GHG emissions-VFF',\n",
    " 'p-Total energy consumption','p-Total GHG emissions', \n",
    " 'p-Total GHG emissions-Combustion/land use','p-Total GHG emissions-VFF',\n",
    " 's-Total energy consumption','s-Total GHG emissions', \n",
    " 's-Total GHG emissions-Combustion/land use','s-Total GHG emissions-VFF',\n",
    " 'l-Total energy consumption','l-Total GHG emissions', \n",
    " 'l-Total GHG emissions-Combustion/land use','l-Total GHG emissions-VFF',\n",
    " 'm-Total energy consumption','m-Total GHG emissions', \n",
    " 'm-Total GHG emissions-Combustion/land use','m-Total GHG emissions-VFF',\n",
    " 'w-Total energy consumption','w-Total GHG emissions', \n",
    " 'w-Total GHG emissions-Combustion/land use','w-Total GHG emissions-VFF',\n",
    " 't-Total energy consumption','t-Total GHG emissions', \n",
    " 't-Total GHG emissions-Combustion/land use','t-Total GHG emissions-VFF','t-Loss factor',\n",
    " 'g-Total energy consumption','g-Total GHG emissions', \n",
    " 'g-Total GHG emissions-Combustion/land use','g-Total GHG emissions-VFF',\n",
    " 'Other small sources','Offsite emissions credit/debit','Lifecycle energy consumption',\n",
    " 'CSS-Total CO2 sequestered','Lifecycle GHG emissions','Field-by-field check']"
   ],
   "outputs": [],
   "metadata": {
    "tags": []
   }
  },
  {
   "cell_type": "markdown",
   "source": [
    "## Process 'Results' csvs"
   ],
   "metadata": {}
  },
  {
   "cell_type": "code",
   "execution_count": 4,
   "source": [
    "#Create list of all results csvs\n",
    "list_results = sorted(glob.glob('*Results*.csv', recursive=True))                             #list all results .csvs\n",
    "len(list_results)                                                                             #how many results files available"
   ],
   "outputs": [
    {
     "output_type": "execute_result",
     "data": {
      "text/plain": [
       "0"
      ]
     },
     "metadata": {},
     "execution_count": 4
    }
   ],
   "metadata": {}
  },
  {
   "cell_type": "code",
   "execution_count": 5,
   "source": [
    "#Define a function called 'clean_df' that goes through excel fil and grabs the rows/columns where results are stored\n",
    "#Then transpose the matrix, assign proper column names, and drop any rows that don't have information and return the clean dataframe\n",
    "def clean_df(df,column_names):\n",
    "    '''clean the df and transpose to map the column names'''\n",
    "    df = df.iloc[: , 7:]\n",
    "    df = df.iloc[[8,9,10,11,12,13,14,15,16,19,20,21,22,23,24,25,26,27,28,29,30,33,35,36,37,38,39,40,41,45,46,47,48,49,\n",
    "         50,54,57,58,61,62,63,64,65,66,67,69,70,71,76,85,86,87,91,92,93,95,96,97,101,102,103,104,105,107,108,109,110,\n",
    "        111,112,114,129,130,131,132,135,136,137,138,141,142,143,144,147,148,149,150,153,154,155,156,159,160,161,162,\n",
    "                 165,166,167,168,171,172,173,174,175,178,179,180,181,183,185,187,190,192,194]]\n",
    "    df_t = df.transpose()\n",
    "    df_t.columns = column_names\n",
    "    df_t = df_t.dropna(how = 'all')\n",
    "    return df_t"
   ],
   "outputs": [],
   "metadata": {}
  },
  {
   "cell_type": "code",
   "execution_count": null,
   "source": [
    "#Create an empty list in which to store cleaned results\n",
    "#Loop through each results csv, clean it, add in informatoin about year, field_type, frack, lng, gwp as scraped from file name\n",
    "#If this doesn't work, print the file name as a 'problematic file' in the try/except loop\n",
    "list_df =[]\n",
    "for file in list_results:\n",
    "    try:\n",
    "        df = pd.read_csv(d+file,header = None)  \n",
    "        result = clean_df(df,column_names)\n",
    "        result['original_file']=file\n",
    "        result['year']=file.split('_')[3]\n",
    "        result['field_type']=file.split('_')[4].lower()\n",
    "        result['frack?']= True if file.split('_')[5].lower()=='frack' else False\n",
    "        result['lng?'] = True if file.split('_')[6].lower()=='lng' else False\n",
    "        result['gwp'] = file.split('_')[7][3:].lower()\n",
    "        result['Field_name'] = file.split('_')[0]\n",
    "        scenario = file.split('_')[-1].split('-')[0:-1]\n",
    "        result['Scenario'] = '-'.join(scenario)\n",
    "        result['Scenario_value'] = file.split('_')[-1].split('-')[-1][:-4]\n",
    "        list_df.append(result)\n",
    "    except:\n",
    "        print(\"problematic file: \" + file)\n",
    "        print(list_results.index(file))"
   ],
   "outputs": [],
   "metadata": {}
  },
  {
   "cell_type": "code",
   "execution_count": null,
   "source": [
    "#Combine lists into a results dataframe\n",
    "results_df = pd.concat(list_df)"
   ],
   "outputs": [],
   "metadata": {}
  },
  {
   "cell_type": "code",
   "execution_count": null,
   "source": [
    "#List out all numerical columns to convert to type float\n",
    "numerical_columns = [\n",
    " 'Field age',\n",
    " 'Field depth',\n",
    " 'Oil production volume',\n",
    " 'Number of producing wells',\n",
    " 'Number of water injecting wells',\n",
    " 'Production tubing diameter',\n",
    " 'Productivity index',\n",
    " 'Reservoir pressure',\n",
    " 'Reservoir temperature',\n",
    " 'Offshore?',\n",
    " 'API gravity',\n",
    " 'Gas composition N2',\n",
    " 'Gas composition CO2',\n",
    " 'Gas composition C1',\n",
    " 'Gas composition C2',\n",
    " 'Gas composition C3',\n",
    " 'Gas composition C4+',\n",
    " 'Gas composition H2S',\n",
    " 'Gas-to-oil ratio (GOR)',\n",
    " 'Water-to-oil ratio (WOR)',\n",
    " 'Water injection ratio',\n",
    " 'Gas lifting injection ratio',\n",
    " 'Gas flooding injection ratio',\n",
    " 'Flood gas ',\n",
    " 'Liquids unloading practice',\n",
    " 'Fraction of CO2 breaking through to producers',\n",
    " 'Source of makeup CO2',\n",
    " 'Percentage of sequestration credit assigned to the oilfield',\n",
    " 'Steam-to-oil ratio (SOR)',\n",
    " 'Fraction of required electricity generated onsite',\n",
    " 'Fraction of remaining natural gas reinjected',\n",
    " 'Fraction of produced water reinjected',\n",
    " 'Fraction of steam generation via cogeneration ',\n",
    " 'Fraction of steam generation via solar thermal',\n",
    " 'Heater/treater',\n",
    " 'Stabilizer column',\n",
    " 'Upgrader type',\n",
    " 'Associated Gas Processing Path',\n",
    " 'Flaring-to-oil ratio',\n",
    " 'Venting-to-oil ratio (purposeful)',\n",
    " 'Volume fraction of diluent',\n",
    " 'Low carbon richness (semi-arid grasslands)',\n",
    " 'Moderate carbon richness (mixed)',\n",
    " 'High carbon richness (forested)',\n",
    " 'Low intensity development and low oxidation',\n",
    " 'Moderate intensity development and moderate oxidation',\n",
    " 'High intensity development and high oxidation',\n",
    " 'Ocean tanker',\n",
    " 'Barge',\n",
    " 'Pipeline',\n",
    " 'Rail',\n",
    " 'Truck',\n",
    " 'Transport distance (one way) - Ocean tanker',\n",
    " 'Transport distance (one way) - Barge',\n",
    " 'Transport distance (one way) - Pipeline',\n",
    " 'Transport distance (one way) - Rail',\n",
    " 'Transport distance (one way) - Truck',\n",
    " 'Ocean tanker size, if applicable',\n",
    " 'Small sources emissions',\n",
    " 'e-Total energy consumption',\n",
    " 'e-Total GHG emissions',\n",
    " 'e-Total GHG emissions-Combustion/land use',\n",
    " 'e-Total GHG emissions-VFF',\n",
    " 'd-Total energy consumption',\n",
    " 'd-Total GHG emissions',\n",
    " 'd-Total GHG emissions-Combustion/land use',\n",
    " 'd-Total GHG emissions-VFF',\n",
    " 'p-Total energy consumption',\n",
    " 'p-Total GHG emissions',\n",
    " 'p-Total GHG emissions-Combustion/land use',\n",
    " 'p-Total GHG emissions-VFF',\n",
    " 's-Total energy consumption',\n",
    " 's-Total GHG emissions',\n",
    " 's-Total GHG emissions-Combustion/land use',\n",
    " 's-Total GHG emissions-VFF',\n",
    " 'l-Total energy consumption',\n",
    " 'l-Total GHG emissions',\n",
    " 'l-Total GHG emissions-Combustion/land use',\n",
    " 'l-Total GHG emissions-VFF',\n",
    " 'm-Total energy consumption',\n",
    " 'm-Total GHG emissions',\n",
    " 'm-Total GHG emissions-Combustion/land use',\n",
    " 'm-Total GHG emissions-VFF',\n",
    " 'w-Total energy consumption',\n",
    " 'w-Total GHG emissions',\n",
    " 'w-Total GHG emissions-Combustion/land use',\n",
    " 'w-Total GHG emissions-VFF',\n",
    " 't-Total energy consumption',\n",
    " 't-Total GHG emissions',\n",
    " 't-Total GHG emissions-Combustion/land use',\n",
    " 't-Total GHG emissions-VFF',\n",
    " 't-Loss factor',\n",
    " 'g-Total energy consumption',\n",
    " 'g-Total GHG emissions',\n",
    " 'g-Total GHG emissions-Combustion/land use',\n",
    " 'g-Total GHG emissions-VFF',\n",
    " 'Other small sources',\n",
    " 'Offsite emissions credit/debit',\n",
    " 'Lifecycle energy consumption',\n",
    " 'CSS-Total CO2 sequestered',\n",
    " 'Lifecycle GHG emissions']"
   ],
   "outputs": [],
   "metadata": {}
  },
  {
   "cell_type": "code",
   "execution_count": null,
   "source": [
    "#more clean up of dataframe\n",
    "results_df = results_df.replace(r'^\\s+$', np.nan, regex=True)               #replace empty strings with NA\n",
    "results_df = results_df.replace(r'\\\\', np.nan, regex=True)                  #\n",
    "results_df.reset_index(inplace = True, drop=True)                           #reset index and drop index column\n",
    "results_df[numerical_columns]= results_df[numerical_columns].astype(float)  #set these numerica columns as type float\n",
    "results_df['Field_name']=results_df['Field_name'].apply(lambda x: x.strip())#strip whitespace from field names"
   ],
   "outputs": [],
   "metadata": {}
  },
  {
   "cell_type": "code",
   "execution_count": null,
   "source": [
    "#double check there are no spaces in field names\n",
    "results_df['Field_name'] = results_df['Field_name'].replace(\" \", \"\")"
   ],
   "outputs": [],
   "metadata": {}
  },
  {
   "cell_type": "markdown",
   "source": [
    "## Process 'Energy Summary' csvs"
   ],
   "metadata": {}
  },
  {
   "cell_type": "code",
   "execution_count": null,
   "source": [
    "#Grab energy summary csvs\n",
    "list_energysummary = sorted(glob.glob('*Energy*.csv', recursive=True))   #list all energy summary .csvs\n",
    "len(list_energysummary)                                                  #how many energy summary files - should match number of results csvs"
   ],
   "outputs": [],
   "metadata": {}
  },
  {
   "cell_type": "code",
   "execution_count": null,
   "source": [
    "#Create empty lists to populate with energy summary data\n",
    "ES_MJperd =[]\n",
    "ES_mmbtuperd = []\n",
    "ES_Energy_Density_crude_oil = []\n",
    "ES_Energy_Density_petcoke = []\n",
    "ES_Energy_Density_C2 = []\n",
    "ES_Energy_Density_C3 = []\n",
    "ES_Energy_Density_C4 = []\n",
    "ES_Crude_output = []\n",
    "ES_Gas_output = []\n",
    "ES_NGL_output = []\n",
    "ES_Gas_output_MJ = []\n",
    "ES_Petcoke_fuel =[]\n",
    "Field_name = []\n",
    "original_file = []\n",
    "gwp = []\n",
    "Scenario = []\n",
    "Scenario_value = []\n"
   ],
   "outputs": [],
   "metadata": {}
  },
  {
   "cell_type": "code",
   "execution_count": null,
   "source": [
    "for file in list_energysummary:\n",
    "    df = pd.read_csv(d+file,header=None)\n",
    "    ES_MJperd.append(float(df.iloc[127,5]))\n",
    "    ES_mmbtuperd.append(float(df.iloc[127,4]))\n",
    "    ES_Energy_Density_crude_oil.append(float(df.iloc[132,12]))\n",
    "    ES_Energy_Density_petcoke.append(float(df.iloc[134,12]))\n",
    "    ES_Energy_Density_C2.append(float(df.iloc[140,12]))\n",
    "    ES_Energy_Density_C3.append(float(df.iloc[141,12]))\n",
    "    ES_Energy_Density_C4.append(float(df.iloc[142,12]))\n",
    "   \n",
    "    ES_Crude_output.append(float(df.iloc[88,4]))\n",
    "    ES_Gas_output.append(float(df.iloc[84,4]))\n",
    "    \n",
    "    if df.iloc[120,3] == 'Gas':\n",
    "        ES_Gas_output_MJ.append(float(df.iloc[120,5]))\n",
    "    else:\n",
    "        ES_Gas_output_MJ.append(float(df.iloc[123,5]))\n",
    "        \n",
    "    ES_NGL_output.append(float(df.iloc[86,4]))\n",
    "    ES_Petcoke_fuel.append(float(df.iloc[76,4]))\n",
    "    Field_name.append(file.split('_')[0])\n",
    "    #original_file.append(file)\n",
    "    gwp.append(file.split('_')[7][3:].lower())\n",
    "    scenario = file.split('_')[-1].split('-')[0:-1]\n",
    "    Scenario.append('-'.join(scenario))\n",
    "    Scenario_value.append(file.split('_')[-1].split('-')[-1][:-4])"
   ],
   "outputs": [],
   "metadata": {}
  },
  {
   "cell_type": "code",
   "execution_count": null,
   "source": [
    "#combine lists of values into dataframe\n",
    "energysummary_df = pd.DataFrame({'Field_name':Field_name,'gwp':gwp, #'original_file':original_file\n",
    "                               'ES_MJperd':ES_MJperd,'ES_mmbtuperd':ES_mmbtuperd,\n",
    "                               'ES_Energy_Density_crude(mmbtu/t)':ES_Energy_Density_crude_oil,'ES_Energy_Density_petcoke(mmbtu/t)':ES_Energy_Density_petcoke,\n",
    "                              'ES_Energy_Density_C2(mmbtu/t)':ES_Energy_Density_C2,'ES_Energy_Density_C3(mmbtu/t)':ES_Energy_Density_C3,\n",
    "                               'ES_Energy_Density_C4(mmbtu/t)':ES_Energy_Density_C4, 'ES_Crude_output(mmbut/d)':ES_Crude_output,\n",
    "                              'ES_Gas_output(mmbtu/d)':ES_Gas_output, 'ES_NGL_output(mmbtu/d)':ES_NGL_output,\n",
    "                              'ES_Gas_output(MJ/d)':ES_Gas_output_MJ,'ES_Petcoke_fuel(mmbtu/d)':ES_Petcoke_fuel})\n"
   ],
   "outputs": [],
   "metadata": {}
  },
  {
   "cell_type": "code",
   "execution_count": null,
   "source": [
    "#double check there are no spaces in field names\n",
    "energysummary_df['Field_name'] = energysummary_df['Field_name'].replace(\" \", \"\")"
   ],
   "outputs": [],
   "metadata": {}
  },
  {
   "cell_type": "markdown",
   "source": [
    "## Process 'VFF' csvs"
   ],
   "metadata": {}
  },
  {
   "cell_type": "code",
   "execution_count": null,
   "source": [
    "#we want to grab both co2 and ch4 emissions from vff csvs"
   ],
   "outputs": [],
   "metadata": {}
  },
  {
   "cell_type": "code",
   "execution_count": null,
   "source": [
    "#Grab vff csvs\n",
    "list_vff = sorted(glob.glob('*VFF*.csv', recursive=True))   #list all VFF .csvs\n",
    "len(list_vff)"
   ],
   "outputs": [],
   "metadata": {}
  },
  {
   "cell_type": "code",
   "execution_count": null,
   "source": [
    "#Create empty lists in which to fill in vff data\n",
    "venting_ch4 =[]\n",
    "venting_ch4_miq = []\n",
    "venting_ch4_uponly = []\n",
    "fugitive_ch4 =[]\n",
    "flaring_ch4 = []\n",
    "fugitive_ch4_miq = []\n",
    "fugitive_ch4_uponly = []\n",
    "venting_production_ch4 = []\n",
    "venting_gatherboostprocesss_ch4 = []\n",
    "venting_transmissionstorage_ch4 = []\n",
    "venting_2ndproduction_ch4 = []\n",
    "venting_enduse_ch4 = []\n",
    "fugitive_production_ch4 = []\n",
    "fugitive_gatherboostprocesss_ch4 = []\n",
    "fugitive_transmissionstorage_ch4 =[]\n",
    "fugitive_2ndproduction_ch4 = []\n",
    "fugitive_enduse_ch4 = []\n",
    "venting_co2 = []\n",
    "fugitive_co2 = []\n",
    "Field_name = []\n",
    "original_file = []\n",
    "gwp = []\n",
    "Scenario = []\n",
    "Scenario_value = []"
   ],
   "outputs": [],
   "metadata": {}
  },
  {
   "cell_type": "code",
   "execution_count": null,
   "source": [
    "#fill in empty lists with data from vff files\n",
    "for file in list_vff:\n",
    "    df = pd.read_csv(d+file,header=None)\n",
    "    venting_ch4.append(sum(df.iloc[87:134,9].apply(lambda x:float(x))))\n",
    "    fugitive_ch4.append(sum(df.iloc[87:133,10].apply(lambda x:float(x))))\n",
    "    flaring_ch4.append(df.iloc[133,10])                                     #always going to be K134\n",
    "    venting_co2.append(sum(df.iloc[87:134,7].apply(lambda x:float(x))))\n",
    "    fugitive_co2.append(sum(df.iloc[87:134,8].apply(lambda x:float(x))))\n",
    "    venting_production_ch4.append(sum(df.iloc[87:107,9].apply(lambda x:float(x))))\n",
    "    venting_gatherboostprocesss_ch4.append(sum(df.iloc[107:112,9].apply(lambda x:float(x))))\n",
    "    venting_transmissionstorage_ch4.append(sum(df.iloc[112:117,9].apply(lambda x:float(x))))\n",
    "    venting_2ndproduction_ch4.append(sum(df.iloc[123:133,9].apply(lambda x:float(x))))\n",
    "    venting_enduse_ch4.append(float(df.iloc[122,9]))\n",
    "    fugitive_production_ch4.append(sum(df.iloc[87:107,10].apply(lambda x:float(x))))\n",
    "    fugitive_gatherboostprocesss_ch4.append(sum(df.iloc[107:112,10].apply(lambda x:float(x))))\n",
    "    fugitive_transmissionstorage_ch4.append(sum(df.iloc[112:117,10].apply(lambda x:float(x))))\n",
    "    fugitive_2ndproduction_ch4.append(sum(df.iloc[123:133,10].apply(lambda x:float(x))))\n",
    "    fugitive_enduse_ch4.append((float(df.iloc[122,10])))\n",
    "    venting_ch4_miq= [sum(x) for x in zip(venting_production_ch4, venting_2ndproduction_ch4)]\n",
    "    fugitive_ch4_miq= [sum(x) for x in zip(fugitive_production_ch4, fugitive_2ndproduction_ch4)]\n",
    "    venting_ch4_uponly = [sum(x) for x in zip(venting_production_ch4,venting_gatherboostprocesss_ch4,venting_2ndproduction_ch4)]\n",
    "    fugitive_ch4_uponly = [sum(x) for x in zip(fugitive_production_ch4,fugitive_gatherboostprocesss_ch4,fugitive_2ndproduction_ch4)]\n",
    "    Field_name.append(file.split('_')[0])\n",
    "    #original_file.append(file)\n",
    "    gwp.append(file.split('_')[7][3:].lower())\n",
    "    scenario = file.split('_')[-1].split('-')[0:-1]\n",
    "    Scenario.append('-'.join(scenario))\n",
    "    Scenario_value.append(file.split('_')[-1].split('-')[-1][:-4])"
   ],
   "outputs": [],
   "metadata": {}
  },
  {
   "cell_type": "code",
   "execution_count": null,
   "source": [
    "#combine lists of data into dataframe\n",
    "vff_df = pd.DataFrame({'Field_name':Field_name, 'gwp':gwp, #'original_file':original_file,\n",
    "                   'venting_ch4(t/d)':venting_ch4,'fugitive_ch4(t/d)':fugitive_ch4,\n",
    "                   'flaring_ch4(t/d)':flaring_ch4,'venting_co2(t/d)':venting_co2,'fugitive_co2(t/d)':fugitive_co2,\n",
    "                   'venting_ch4_miq(t/d)':venting_ch4_miq,'fugitive_ch4_miq(t/d)':fugitive_ch4_miq,\n",
    "                   'venting_ch4_uponly(t/d)':venting_ch4_uponly,'fugitive_ch4_uponly(t/d)':fugitive_ch4_uponly,\n",
    "                   'ch4_production(t/d)': [sum(x) for x in zip(venting_production_ch4,fugitive_production_ch4)],\n",
    "                   'ch4_gatherboostprocess(t/d)': [sum(x) for x in zip(venting_gatherboostprocesss_ch4,fugitive_gatherboostprocesss_ch4)],\n",
    "                   'ch4_transmissionstorage(t/d)': [sum(x) for x in zip(venting_transmissionstorage_ch4,fugitive_transmissionstorage_ch4)],\n",
    "                   'ch4_2ndproduction(t/d)':[sum(x) for x in zip(venting_2ndproduction_ch4,fugitive_2ndproduction_ch4)],\n",
    "                   'ch4_enduse(t/d)':[sum(x) for x in zip(venting_enduse_ch4,fugitive_enduse_ch4)]})"
   ],
   "outputs": [],
   "metadata": {}
  },
  {
   "cell_type": "code",
   "execution_count": null,
   "source": [
    "#add in new columns for tCH4/year and tCH4/year-miQ\n",
    "vff_df['tCH4/year'] = (vff_df['flaring_ch4(t/d)'].astype(float)+vff_df['venting_ch4(t/d)']+vff_df['fugitive_ch4(t/d)'])*365\n",
    "vff_df['tCH4/year-miQ']=(vff_df['flaring_ch4(t/d)'].astype(float)+vff_df['venting_ch4_miq(t/d)']+vff_df['fugitive_ch4_miq(t/d)'])*365"
   ],
   "outputs": [],
   "metadata": {}
  },
  {
   "cell_type": "code",
   "execution_count": null,
   "source": [
    "#double check field names don't have spaces\n",
    "vff_df['Field_name'] = vff_df['Field_name'].replace(\" \", \"\")"
   ],
   "outputs": [],
   "metadata": {}
  },
  {
   "cell_type": "markdown",
   "source": [
    "## Add in data from 'Flow' csvs"
   ],
   "metadata": {}
  },
  {
   "cell_type": "code",
   "execution_count": null,
   "source": [
    "#Grab flow sheet csvs\n",
    "list_flow = sorted(glob.glob('*Flow*.csv', recursive=True))   #list all Flow .csvs\n",
    "len(list_flow)"
   ],
   "outputs": [],
   "metadata": {}
  },
  {
   "cell_type": "code",
   "execution_count": null,
   "source": [
    "#Create empty lists in which to populate data from csvs\n",
    "FS_LPG_export_LPG = [] #Flow Sheet!W9\n",
    "FS_LPG_export_C2 = [] #W17\n",
    "FS_LPG_export_C3 = [] #W18\n",
    "FS_LPG_export_C4  = [] #W19 \n",
    "FS_Ethane_to_Petchem = [] #CP17\n",
    "FS_Petcoke_to_stock =[]\n",
    "FS_Gas_at_Wellhead =[] #AF24\n",
    "Field_name = []\n",
    "original_file = []\n",
    "gwp = []\n",
    "Scenario = []\n",
    "Scenario_value = []"
   ],
   "outputs": [],
   "metadata": {}
  },
  {
   "cell_type": "code",
   "execution_count": null,
   "source": [
    "#fill lists with data from flow csvs\n",
    "Field_name = []\n",
    "original_file = []\n",
    "for file in list_flow:\n",
    "    df = pd.read_csv(d+file,header=None)\n",
    "    FS_LPG_export_LPG.append(float(df.iloc[8,22]))\n",
    "    FS_LPG_export_C2.append(float(df.iloc[16,22]))\n",
    "    FS_LPG_export_C3.append(float(df.iloc[17,22]))\n",
    "    FS_LPG_export_C4.append(float(df.iloc[18,22]))\n",
    "    FS_Ethane_to_Petchem.append(float(df.iloc[16,93]))\n",
    "    FS_Petcoke_to_stock.append(float(df.iloc[6,214]))\n",
    "    FS_Gas_at_Wellhead.append(float(df.iloc[23,31]))\n",
    "    Field_name.append(file.split('_')[0])\n",
    "    original_file.append(file)\n",
    "    gwp.append(file.split('_')[7][3:].lower())\n",
    "    scenario = file.split('_')[-1].split('-')[0:-1]\n",
    "    Scenario.append('-'.join(scenario))\n",
    "    Scenario_value.append(file.split('_')[-1].split('-')[-1][:-4])"
   ],
   "outputs": [],
   "metadata": {}
  },
  {
   "cell_type": "code",
   "execution_count": null,
   "source": [
    "#Create dataframe for flow data\n",
    "flowsheet_df = pd.DataFrame({'Field_name':Field_name, 'gwp':gwp, #'original_file':original_file,\n",
    "                   'FS_LPG_export_LPG(t/d)':FS_LPG_export_LPG,'FS_LPG_export_C2(t/d)':FS_LPG_export_C2,\n",
    "                   'FS_LPG_export_C3(t/d)': FS_LPG_export_C3, 'FS_LPG_export_C4(t/d)':FS_LPG_export_C4,\n",
    "                   'FS_Ethane_to_Petchem(t/d)':FS_Ethane_to_Petchem,\n",
    "                   'FS_Petcoke_to_stock(t/d)':FS_Petcoke_to_stock,'FS_Gas_at_Wellhead(t/d)':FS_Gas_at_Wellhead})"
   ],
   "outputs": [],
   "metadata": {}
  },
  {
   "cell_type": "code",
   "execution_count": null,
   "source": [
    "#double check no spaces in field names\n",
    "flowsheet_df['Field_name'] = flowsheet_df['Field_name'].replace(\" \", \"\")"
   ],
   "outputs": [],
   "metadata": {}
  },
  {
   "cell_type": "markdown",
   "source": [
    "## Merge Results, Energy Summary, VFF, and Flow into one dataframe"
   ],
   "metadata": {}
  },
  {
   "cell_type": "code",
   "execution_count": null,
   "source": [
    "print(len(results_df))\n",
    "print(len(energysummary_df))\n",
    "print(len(vff_df))\n",
    "print(len(flowsheet_df))"
   ],
   "outputs": [],
   "metadata": {}
  },
  {
   "cell_type": "code",
   "execution_count": null,
   "source": [
    "#merge results and energysummary\n",
    "merge = results_df.merge(energysummary_df, on=['Field_name','gwp','Scenario','Scenario_value'], how = 'outer')"
   ],
   "outputs": [],
   "metadata": {}
  },
  {
   "cell_type": "code",
   "execution_count": null,
   "source": [
    "#merge in vff\n",
    "merge = merge.merge(vff_df, on=['Field_name','gwp','Scenario','Scenario_value'], how='outer')"
   ],
   "outputs": [],
   "metadata": {}
  },
  {
   "cell_type": "code",
   "execution_count": null,
   "source": [
    "#merge in flowsheet\n",
    "merge = merge.merge(flowsheet_df, on=['Field_name','gwp','Scenario','Scenario_value'], how='outer')"
   ],
   "outputs": [],
   "metadata": {}
  },
  {
   "cell_type": "code",
   "execution_count": null,
   "source": [
    "#Add new column for tco2e/yr after all data are merged\n",
    "merge['tCO2e/yr']=merge['Lifecycle GHG emissions']*merge['ES_MJperd']/10**6*365"
   ],
   "outputs": [],
   "metadata": {}
  },
  {
   "cell_type": "markdown",
   "source": [
    "## Check against upstream results"
   ],
   "metadata": {}
  },
  {
   "cell_type": "code",
   "execution_count": null,
   "source": [
    "#read in upstream_results and make sure we aren't missing any columns here\n",
    "sp_dir = '/Users/lschmeisser/RMI/Climate Action Engine - Documents/OCI Phase 2'\n",
    "connection = sqlite3.connect(sp_dir+\"/OCI_Database.db\")\n",
    "up_mid_down = pd.read_sql('select * from upstream_results',connection)"
   ],
   "outputs": [],
   "metadata": {}
  },
  {
   "cell_type": "code",
   "execution_count": null,
   "source": [
    "list_up = up_mid_down.columns.to_list()\n",
    "list_merge = merge.columns.to_list()"
   ],
   "outputs": [],
   "metadata": {}
  },
  {
   "cell_type": "markdown",
   "source": [
    "## Export results to csv or database"
   ],
   "metadata": {}
  },
  {
   "cell_type": "code",
   "execution_count": null,
   "source": [
    "pd.set_option('display.max_columns', None)"
   ],
   "outputs": [],
   "metadata": {}
  },
  {
   "cell_type": "code",
   "execution_count": null,
   "source": [
    "merge.to_csv('/Users/lschmeisser/RMI/Climate Action Engine - Documents/OCI Phase 2/Upstream/upstream_data_pipeline_sp/Postprocessed_outputs_2/upstream_postprocessed_scenarios.csv', index=False)\n"
   ],
   "outputs": [],
   "metadata": {}
  },
  {
   "cell_type": "code",
   "execution_count": null,
   "source": [
    "merge.to_csv('/Users/lschmeisser/Desktop/upstream_postprocessed_scenarios.csv', index=False)\n"
   ],
   "outputs": [],
   "metadata": {}
  },
  {
   "cell_type": "markdown",
   "source": [
    "## Create a spreadsheet that is easier to view (field name and important variables to the left)"
   ],
   "metadata": {}
  },
  {
   "cell_type": "code",
   "execution_count": null,
   "source": [
    "easyview = merge[['Field_name','Field location (Country)','year',\n",
    "'field_type',\n",
    "'frack?',\n",
    "'lng?',\n",
    "'gwp',\n",
    "'Oil production volume', \n",
    "'Field age',\n",
    "'Field depth',\n",
    "'Downhole pump',\n",
    "'Water reinjection ',\n",
    "'Natural gas reinjection',\n",
    "'Water flooding',\n",
    "'Gas lifting',\n",
    "'Gas flooding',\n",
    "'Steam flooding',\n",
    "'Oil sands mine (integrated with upgrader)',\n",
    "'Oil sands mine (non-integrated with upgrader)',\n",
    "'Number of producing wells',\n",
    "'Number of water injecting wells',\n",
    "'Production tubing diameter',\n",
    "'Productivity index',\n",
    "'Reservoir pressure',\n",
    "'Reservoir temperature',\n",
    "'Offshore?',\n",
    "'API gravity',\n",
    "'Gas composition N2',\n",
    "'Gas composition CO2',\n",
    "'Gas composition C1',\n",
    "'Gas composition C2',\n",
    "'Gas composition C3',\n",
    "'Gas composition C4+',\n",
    "'Gas composition H2S',\n",
    "'Gas-to-oil ratio (GOR)',\n",
    "'Water-to-oil ratio (WOR)',\n",
    "'Water injection ratio',\n",
    "'Gas lifting injection ratio',\n",
    "'Gas flooding injection ratio',\n",
    "'Flood gas ',\n",
    "'Liquids unloading practice',\n",
    "'Fraction of CO2 breaking through to producers',\n",
    "'Source of makeup CO2',\n",
    "'Percentage of sequestration credit assigned to the oilfield',\n",
    "'Steam-to-oil ratio (SOR)',\n",
    "'Fraction of required electricity generated onsite',\n",
    "'Fraction of remaining natural gas reinjected',\n",
    "'Fraction of produced water reinjected',\n",
    "'Fraction of steam generation via cogeneration ',\n",
    "'Fraction of steam generation via solar thermal',\n",
    "'Heater/treater',\n",
    "'Stabilizer column',\n",
    "'Upgrader type',\n",
    "'Associated Gas Processing Path',\n",
    "'Flaring-to-oil ratio',\n",
    "'Venting-to-oil ratio (purposeful)',\n",
    "'Volume fraction of diluent',\n",
    "'Low carbon richness (semi-arid grasslands)',\n",
    "'Moderate carbon richness (mixed)',\n",
    "'High carbon richness (forested)',\n",
    "'Low intensity development and low oxidation',\n",
    "'Moderate intensity development and moderate oxidation',\n",
    "'High intensity development and high oxidation',\n",
    "'Ocean tanker',\n",
    "'Barge',\n",
    "'Pipeline',\n",
    "'Rail',\n",
    "'Truck',\n",
    "'Transport distance (one way) - Ocean tanker',\n",
    "'Transport distance (one way) - Barge',\n",
    "'Transport distance (one way) - Pipeline',\n",
    "'Transport distance (one way) - Rail',\n",
    "'Transport distance (one way) - Truck',\n",
    "'Ocean tanker size, if applicable',\n",
    "'Small sources emissions',\n",
    "'e-Total energy consumption',\n",
    "'e-Total GHG emissions',\n",
    "'e-Total GHG emissions-Combustion/land use',\n",
    "'e-Total GHG emissions-VFF',\n",
    "'d-Total energy consumption',\n",
    "'d-Total GHG emissions',\n",
    "'d-Total GHG emissions-Combustion/land use',\n",
    "'d-Total GHG emissions-VFF',\n",
    "'p-Total energy consumption',\n",
    "'p-Total GHG emissions',\n",
    "'p-Total GHG emissions-Combustion/land use',\n",
    "'p-Total GHG emissions-VFF',\n",
    "'s-Total energy consumption',\n",
    "'s-Total GHG emissions',\n",
    "'s-Total GHG emissions-Combustion/land use',\n",
    "'s-Total GHG emissions-VFF',\n",
    "'l-Total energy consumption',\n",
    "'l-Total GHG emissions',\n",
    "'l-Total GHG emissions-Combustion/land use',\n",
    "'l-Total GHG emissions-VFF',\n",
    "'m-Total energy consumption',\n",
    "'m-Total GHG emissions',\n",
    "'m-Total GHG emissions-Combustion/land use',\n",
    "'m-Total GHG emissions-VFF', \n",
    "'w-Total energy consumption',\n",
    "'w-Total GHG emissions',\n",
    "'w-Total GHG emissions-Combustion/land use',\n",
    "'w-Total GHG emissions-VFF',\n",
    "'t-Total energy consumption',\n",
    "'t-Total GHG emissions',\n",
    "'t-Total GHG emissions-Combustion/land use',\n",
    "'t-Total GHG emissions-VFF',\n",
    "'t-Loss factor',\n",
    "'g-Total energy consumption',\n",
    "'g-Total GHG emissions',\n",
    "'g-Total GHG emissions-Combustion/land use',\n",
    "'g-Total GHG emissions-VFF',\n",
    "'Other small sources',\n",
    "'Offsite emissions credit/debit',\n",
    "'Lifecycle energy consumption',\n",
    "'CSS-Total CO2 sequestered',\n",
    "'Lifecycle GHG emissions',\n",
    "'Field-by-field check',\n",
    "'ES_MJperd',\n",
    "'ES_mmbtuperd',\n",
    "'ES_Energy_Density_crude(mmbtu/t)',\n",
    "'ES_Energy_Density_petcoke(mmbtu/t)',\n",
    "'ES_Energy_Density_C2(mmbtu/t)',\n",
    "'ES_Energy_Density_C3(mmbtu/t)',\n",
    "'ES_Energy_Density_C4(mmbtu/t)',\n",
    "'ES_Crude_output(mmbut/d)',\n",
    "'ES_Gas_output(mmbtu/d)',\n",
    "'ES_NGL_output(mmbtu/d)',\n",
    "'ES_Gas_output(MJ/d)',\n",
    "'ES_Petcoke_fuel(mmbtu/d)',\n",
    "'venting_ch4(t/d)',\n",
    "'fugitive_ch4(t/d)',\n",
    "'flaring_ch4(t/d)',\n",
    "'venting_co2(t/d)',\n",
    "'fugitive_co2(t/d)',\n",
    "'venting_ch4_miq(t/d)',\n",
    "'fugitive_ch4_miq(t/d)',\n",
    "'venting_ch4_uponly(t/d)',\n",
    "'fugitive_ch4_uponly(t/d)',\n",
    "'ch4_production(t/d)',\n",
    "'ch4_gatherboostprocess(t/d)',\n",
    "'ch4_transmissionstorage(t/d)',\n",
    "'ch4_2ndproduction(t/d)',\n",
    "'ch4_enduse(t/d)',\n",
    "'tCH4/year',\n",
    "'tCH4/year-miQ',\n",
    "'FS_LPG_export_LPG(t/d)',\n",
    "'FS_LPG_export_C2(t/d)',\n",
    "'FS_LPG_export_C3(t/d)',\n",
    "'FS_LPG_export_C4(t/d)',\n",
    "'FS_Ethane_to_Petchem(t/d)',\n",
    "'FS_Petcoke_to_stock(t/d)',\n",
    "'FS_Gas_at_Wellhead(t/d)',\n",
    "'tCO2e/yr']]"
   ],
   "outputs": [],
   "metadata": {}
  },
  {
   "cell_type": "code",
   "execution_count": null,
   "source": [
    "#Write to excel file\n",
    "easyview.to_excel('/Users/lschmeisser/RMI/Climate Action Engine - Documents/OCI Phase 2/Upstream/upstream_data_pipeline_sp/Postprocessed_outputs_2/easyview_scenarios.xlsx', index=False)              \n"
   ],
   "outputs": [],
   "metadata": {
    "scrolled": true,
    "tags": []
   }
  },
  {
   "cell_type": "code",
   "execution_count": null,
   "source": [],
   "outputs": [],
   "metadata": {}
  }
 ],
 "metadata": {
  "kernelspec": {
   "display_name": "Python 3 (ipykernel)",
   "language": "python",
   "name": "python3"
  },
  "language_info": {
   "codemirror_mode": {
    "name": "ipython",
    "version": 3
   },
   "file_extension": ".py",
   "mimetype": "text/x-python",
   "name": "python",
   "nbconvert_exporter": "python",
   "pygments_lexer": "ipython3",
   "version": "3.9.12"
  }
 },
 "nbformat": 4,
 "nbformat_minor": 5
}